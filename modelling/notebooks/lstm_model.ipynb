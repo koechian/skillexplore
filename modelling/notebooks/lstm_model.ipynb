{
 "cells": [
  {
   "cell_type": "code",
   "execution_count": 2,
   "metadata": {},
   "outputs": [],
   "source": [
    "import pandas as pd\n",
    "import numpy as np\n",
    "import matplotlib.pyplot as plt"
   ]
  },
  {
   "cell_type": "code",
   "execution_count": 3,
   "metadata": {},
   "outputs": [
    {
     "data": {
      "text/html": [
       "<div>\n",
       "<style scoped>\n",
       "    .dataframe tbody tr th:only-of-type {\n",
       "        vertical-align: middle;\n",
       "    }\n",
       "\n",
       "    .dataframe tbody tr th {\n",
       "        vertical-align: top;\n",
       "    }\n",
       "\n",
       "    .dataframe thead th {\n",
       "        text-align: right;\n",
       "    }\n",
       "</style>\n",
       "<table border=\"1\" class=\"dataframe\">\n",
       "  <thead>\n",
       "    <tr style=\"text-align: right;\">\n",
       "      <th></th>\n",
       "      <th>Unnamed: 0</th>\n",
       "      <th>Target</th>\n",
       "    </tr>\n",
       "  </thead>\n",
       "  <tbody>\n",
       "    <tr>\n",
       "      <th>count</th>\n",
       "      <td>13004.000000</td>\n",
       "      <td>13004.000000</td>\n",
       "    </tr>\n",
       "    <tr>\n",
       "      <th>mean</th>\n",
       "      <td>7745.054137</td>\n",
       "      <td>0.304445</td>\n",
       "    </tr>\n",
       "    <tr>\n",
       "      <th>std</th>\n",
       "      <td>5451.320764</td>\n",
       "      <td>0.460190</td>\n",
       "    </tr>\n",
       "    <tr>\n",
       "      <th>min</th>\n",
       "      <td>0.000000</td>\n",
       "      <td>0.000000</td>\n",
       "    </tr>\n",
       "    <tr>\n",
       "      <th>25%</th>\n",
       "      <td>3451.750000</td>\n",
       "      <td>0.000000</td>\n",
       "    </tr>\n",
       "    <tr>\n",
       "      <th>50%</th>\n",
       "      <td>6957.500000</td>\n",
       "      <td>0.000000</td>\n",
       "    </tr>\n",
       "    <tr>\n",
       "      <th>75%</th>\n",
       "      <td>10488.250000</td>\n",
       "      <td>1.000000</td>\n",
       "    </tr>\n",
       "    <tr>\n",
       "      <th>max</th>\n",
       "      <td>19768.000000</td>\n",
       "      <td>1.000000</td>\n",
       "    </tr>\n",
       "  </tbody>\n",
       "</table>\n",
       "</div>"
      ],
      "text/plain": [
       "         Unnamed: 0        Target\n",
       "count  13004.000000  13004.000000\n",
       "mean    7745.054137      0.304445\n",
       "std     5451.320764      0.460190\n",
       "min        0.000000      0.000000\n",
       "25%     3451.750000      0.000000\n",
       "50%     6957.500000      0.000000\n",
       "75%    10488.250000      1.000000\n",
       "max    19768.000000      1.000000"
      ]
     },
     "execution_count": 3,
     "metadata": {},
     "output_type": "execute_result"
    }
   ],
   "source": [
    "df = pd.read_csv('../datasets/np_train_skills_no_commas.csv')\n",
    "df = df.dropna()\n",
    "df.describe()"
   ]
  },
  {
   "cell_type": "code",
   "execution_count": 30,
   "metadata": {},
   "outputs": [
    {
     "data": {
      "text/html": [
       "<div>\n",
       "<style scoped>\n",
       "    .dataframe tbody tr th:only-of-type {\n",
       "        vertical-align: middle;\n",
       "    }\n",
       "\n",
       "    .dataframe tbody tr th {\n",
       "        vertical-align: top;\n",
       "    }\n",
       "\n",
       "    .dataframe thead th {\n",
       "        text-align: right;\n",
       "    }\n",
       "</style>\n",
       "<table border=\"1\" class=\"dataframe\">\n",
       "  <thead>\n",
       "    <tr style=\"text-align: right;\">\n",
       "      <th></th>\n",
       "      <th>Unnamed: 0</th>\n",
       "      <th>Phrase</th>\n",
       "      <th>Target</th>\n",
       "    </tr>\n",
       "  </thead>\n",
       "  <tbody>\n",
       "    <tr>\n",
       "      <th>6944</th>\n",
       "      <td>6944</td>\n",
       "      <td>organizational skills time management skills</td>\n",
       "      <td>1.0</td>\n",
       "    </tr>\n",
       "    <tr>\n",
       "      <th>5199</th>\n",
       "      <td>5199</td>\n",
       "      <td>leading software solution</td>\n",
       "      <td>1.0</td>\n",
       "    </tr>\n",
       "    <tr>\n",
       "      <th>6365</th>\n",
       "      <td>6365</td>\n",
       "      <td>strategic tactical advice</td>\n",
       "      <td>0.0</td>\n",
       "    </tr>\n",
       "    <tr>\n",
       "      <th>2285</th>\n",
       "      <td>2285</td>\n",
       "      <td>subsidiary</td>\n",
       "      <td>0.0</td>\n",
       "    </tr>\n",
       "    <tr>\n",
       "      <th>7012</th>\n",
       "      <td>7012</td>\n",
       "      <td>intellectual capital</td>\n",
       "      <td>0.0</td>\n",
       "    </tr>\n",
       "    <tr>\n",
       "      <th>878</th>\n",
       "      <td>878</td>\n",
       "      <td>experience data science techniques</td>\n",
       "      <td>1.0</td>\n",
       "    </tr>\n",
       "    <tr>\n",
       "      <th>18101</th>\n",
       "      <td>18101</td>\n",
       "      <td>get results</td>\n",
       "      <td>0.0</td>\n",
       "    </tr>\n",
       "    <tr>\n",
       "      <th>11875</th>\n",
       "      <td>11875</td>\n",
       "      <td>academic qualifications</td>\n",
       "      <td>1.0</td>\n",
       "    </tr>\n",
       "    <tr>\n",
       "      <th>18039</th>\n",
       "      <td>18039</td>\n",
       "      <td>make grade</td>\n",
       "      <td>0.0</td>\n",
       "    </tr>\n",
       "    <tr>\n",
       "      <th>19496</th>\n",
       "      <td>19496</td>\n",
       "      <td>cost</td>\n",
       "      <td>0.0</td>\n",
       "    </tr>\n",
       "  </tbody>\n",
       "</table>\n",
       "</div>"
      ],
      "text/plain": [
       "       Unnamed: 0                                        Phrase  Target\n",
       "6944         6944  organizational skills time management skills     1.0\n",
       "5199         5199                     leading software solution     1.0\n",
       "6365         6365                     strategic tactical advice     0.0\n",
       "2285         2285                                    subsidiary     0.0\n",
       "7012         7012                          intellectual capital     0.0\n",
       "878           878            experience data science techniques     1.0\n",
       "18101       18101                                   get results     0.0\n",
       "11875       11875                       academic qualifications     1.0\n",
       "18039       18039                                    make grade     0.0\n",
       "19496       19496                                         cost      0.0"
      ]
     },
     "execution_count": 30,
     "metadata": {},
     "output_type": "execute_result"
    }
   ],
   "source": [
    "df.sample(10)"
   ]
  },
  {
   "cell_type": "code",
   "execution_count": 5,
   "metadata": {},
   "outputs": [],
   "source": [
    "# Get unique words\n",
    "\n",
    "from collections import Counter\n",
    "\n",
    "#count unique words\n",
    "def counter_word(text):\n",
    "    count = Counter()\n",
    "    for i in text.values:\n",
    "        for word in i.split():\n",
    "            count[word] += 1\n",
    "    return count\n",
    "\n",
    "text = df['Phrase']\n",
    "counter = counter_word(text)\n",
    "num_words = len(counter)\n",
    "max_len = 20"
   ]
  },
  {
   "cell_type": "code",
   "execution_count": 6,
   "metadata": {},
   "outputs": [],
   "source": [
    "# train test splits\n",
    "\n",
    "def split_train_test(features, target, size):\n",
    "    #size is the size of the training set\n",
    "    train_size = int(features.shape[0]* size) #check me\n",
    "    X_train = features[:train_size]\n",
    "    y_train = target[:train_size]\n",
    "\n",
    "    X_test = features[train_size:]\n",
    "    y_test = target[train_size:]\n",
    "    return X_train, y_train, X_test, y_test\n",
    "\n",
    "train = df[['Phrase','Target']]\n",
    "features = train['Phrase']\n",
    "target = train['Target']\n",
    "X_train, y_train, X_test, y_test = split_train_test(features, target, 0.8)"
   ]
  },
  {
   "cell_type": "markdown",
   "metadata": {},
   "source": [
    "#### Preparation for Modelling"
   ]
  },
  {
   "cell_type": "code",
   "execution_count": 7,
   "metadata": {},
   "outputs": [
    {
     "name": "stderr",
     "output_type": "stream",
     "text": [
      "2024-01-10 23:03:52.255942: I tensorflow/core/platform/cpu_feature_guard.cc:182] This TensorFlow binary is optimized to use available CPU instructions in performance-critical operations.\n",
      "To enable the following instructions: AVX2 FMA, in other operations, rebuild TensorFlow with the appropriate compiler flags.\n"
     ]
    }
   ],
   "source": [
    "from keras.preprocessing.text import Tokenizer\n",
    "tokenizer = Tokenizer(num_words=num_words)\n",
    "tokenizer.fit_on_texts(X_train)"
   ]
  },
  {
   "cell_type": "code",
   "execution_count": 8,
   "metadata": {},
   "outputs": [],
   "source": [
    "word_index = tokenizer.word_index\n",
    "train_sequences = tokenizer.texts_to_sequences(X_train)"
   ]
  },
  {
   "cell_type": "code",
   "execution_count": 9,
   "metadata": {},
   "outputs": [],
   "source": [
    "from keras.preprocessing.sequence import pad_sequences\n",
    "\n",
    "train_padded = pad_sequences(\n",
    "    train_sequences, maxlen=max_len, padding=\"post\", truncating=\"post\"\n",
    ")"
   ]
  },
  {
   "cell_type": "code",
   "execution_count": 10,
   "metadata": {},
   "outputs": [],
   "source": [
    "test_sequences = tokenizer.texts_to_sequences(X_test)\n",
    "test_padded = pad_sequences(\n",
    "    test_sequences, maxlen=max_len, padding=\"post\", truncating=\"post\"\n",
    ")"
   ]
  },
  {
   "cell_type": "code",
   "execution_count": 11,
   "metadata": {},
   "outputs": [
    {
     "name": "stdout",
     "output_type": "stream",
     "text": [
      "significant scope impact\n",
      "significant scope impact\n"
     ]
    }
   ],
   "source": [
    "#check inverse\n",
    "reverse_word_index = dict([(value,key) for (key,value) in word_index.items()])\n",
    "def decode(text):\n",
    "    return \" \".join([reverse_word_index.get(i, \"?\") for i in text])\n",
    "print(decode(train_sequences[0]))\n",
    "print(df['Phrase'][0])"
   ]
  },
  {
   "cell_type": "markdown",
   "metadata": {},
   "source": [
    "# Modelling"
   ]
  },
  {
   "cell_type": "code",
   "execution_count": 13,
   "metadata": {},
   "outputs": [],
   "source": [
    "import tensorflow as tf\n",
    "from keras.models import Sequential\n",
    "from keras.layers import Embedding, LSTM, Dense, Dropout\n",
    "from keras.initializers import Constant\n"
   ]
  },
  {
   "cell_type": "markdown",
   "metadata": {},
   "source": [
    "- Model 1: Without GLoVe Embeddings"
   ]
  },
  {
   "cell_type": "code",
   "execution_count": 20,
   "metadata": {},
   "outputs": [],
   "source": [
    "model = tf.keras.models.Sequential([\n",
    "    # Shape [batch, time, features] => [batch, time, lstm_units]\n",
    "    tf.keras.layers.Embedding(num_words, 32, input_length=max_len),\n",
    "    tf.keras.layers.LSTM(64),\n",
    "    tf.keras.layers.Dropout(0.3),\n",
    "    tf.keras.layers.Dense(units=1, activation='sigmoid')\n",
    "])"
   ]
  },
  {
   "cell_type": "code",
   "execution_count": 13,
   "metadata": {},
   "outputs": [],
   "source": [
    "opt = tf.keras.optimizers.Adam(learning_rate=0.1)\n",
    "model.compile(loss=\"binary_crossentropy\", optimizer=opt, metrics=[\"accuracy\"])"
   ]
  },
  {
   "cell_type": "code",
   "execution_count": 14,
   "metadata": {},
   "outputs": [
    {
     "name": "stdout",
     "output_type": "stream",
     "text": [
      "Model: \"sequential\"\n",
      "_________________________________________________________________\n",
      " Layer (type)                Output Shape              Param #   \n",
      "=================================================================\n",
      " embedding (Embedding)       (None, 20, 32)            184704    \n",
      "                                                                 \n",
      " lstm (LSTM)                 (None, 64)                24832     \n",
      "                                                                 \n",
      " dropout (Dropout)           (None, 64)                0         \n",
      "                                                                 \n",
      " dense (Dense)               (None, 1)                 65        \n",
      "                                                                 \n",
      "=================================================================\n",
      "Total params: 209601 (818.75 KB)\n",
      "Trainable params: 209601 (818.75 KB)\n",
      "Non-trainable params: 0 (0.00 Byte)\n",
      "_________________________________________________________________\n"
     ]
    }
   ],
   "source": [
    "model.summary()"
   ]
  },
  {
   "cell_type": "code",
   "execution_count": 15,
   "metadata": {},
   "outputs": [
    {
     "name": "stdout",
     "output_type": "stream",
     "text": [
      "Epoch 1/15\n",
      "261/261 [==============================] - 5s 9ms/step - loss: 0.6270 - accuracy: 0.6739 - val_loss: 0.4919 - val_accuracy: 0.7833\n",
      "Epoch 2/15\n",
      "261/261 [==============================] - 2s 7ms/step - loss: 0.6003 - accuracy: 0.7026 - val_loss: 0.6778 - val_accuracy: 0.6694\n",
      "Epoch 3/15\n",
      "261/261 [==============================] - 2s 7ms/step - loss: 0.5908 - accuracy: 0.7025 - val_loss: 0.4886 - val_accuracy: 0.7751\n",
      "Epoch 4/15\n",
      "261/261 [==============================] - 2s 7ms/step - loss: 0.5719 - accuracy: 0.7192 - val_loss: 0.4987 - val_accuracy: 0.7357\n",
      "Epoch 5/15\n",
      "261/261 [==============================] - 2s 7ms/step - loss: 0.5667 - accuracy: 0.7294 - val_loss: 0.5611 - val_accuracy: 0.7242\n",
      "Epoch 6/15\n",
      "261/261 [==============================] - 2s 7ms/step - loss: 0.5574 - accuracy: 0.7364 - val_loss: 0.5048 - val_accuracy: 0.7415\n",
      "Epoch 7/15\n",
      "261/261 [==============================] - 2s 7ms/step - loss: 0.6129 - accuracy: 0.7140 - val_loss: 1.0476 - val_accuracy: 0.3441\n",
      "Epoch 8/15\n",
      "261/261 [==============================] - 2s 7ms/step - loss: 0.6066 - accuracy: 0.7098 - val_loss: 0.4709 - val_accuracy: 0.7828\n",
      "Epoch 9/15\n",
      "261/261 [==============================] - 2s 7ms/step - loss: 0.5693 - accuracy: 0.7239 - val_loss: 0.4745 - val_accuracy: 0.7655\n",
      "Epoch 10/15\n",
      "261/261 [==============================] - 2s 7ms/step - loss: 0.5619 - accuracy: 0.7376 - val_loss: 0.5281 - val_accuracy: 0.7309\n",
      "Epoch 11/15\n",
      "261/261 [==============================] - 2s 7ms/step - loss: 0.5462 - accuracy: 0.7454 - val_loss: 0.5524 - val_accuracy: 0.7179\n",
      "Epoch 12/15\n",
      "261/261 [==============================] - 2s 7ms/step - loss: 0.5281 - accuracy: 0.7562 - val_loss: 0.6463 - val_accuracy: 0.6824\n",
      "Epoch 13/15\n",
      "261/261 [==============================] - 2s 6ms/step - loss: 0.5344 - accuracy: 0.7568 - val_loss: 0.6341 - val_accuracy: 0.6843\n",
      "Epoch 14/15\n",
      "261/261 [==============================] - 2s 7ms/step - loss: 0.5250 - accuracy: 0.7622 - val_loss: 0.4962 - val_accuracy: 0.7689\n",
      "Epoch 15/15\n",
      "261/261 [==============================] - 2s 7ms/step - loss: 0.5138 - accuracy: 0.7682 - val_loss: 0.4729 - val_accuracy: 0.7751\n"
     ]
    }
   ],
   "source": [
    "history = model.fit(\n",
    "    train_padded, y_train, epochs=15, validation_split=0.2\n",
    ")"
   ]
  },
  {
   "cell_type": "code",
   "execution_count": 24,
   "metadata": {},
   "outputs": [],
   "source": [
    "def accuracy_loss_plot(history):\n",
    "    fig, (ax1, ax2) = plt.subplots(1, 2, figsize=(14, 4))\n",
    "    ax1.plot(history.history['accuracy'])\n",
    "    ax1.plot(history.history['val_accuracy'])\n",
    "    ax1.set_title('Model accuracy')\n",
    "    ax1.set_ylabel('Accuracy')\n",
    "    ax1.set_xlabel('Epoch')\n",
    "    ax1.legend(['Train', 'Val'], loc='lower right')\n",
    "\n",
    "    ax2.plot(history.history['loss'])\n",
    "    ax2.plot(history.history['val_loss'])\n",
    "    ax2.set_title('Model loss')\n",
    "    ax2.set_ylabel('loss')\n",
    "    ax2.set_xlabel('Epoch')\n",
    "    ax2.legend(['Train', 'Val'], loc='upper right')\n"
   ]
  },
  {
   "cell_type": "code",
   "execution_count": 17,
   "metadata": {},
   "outputs": [
    {
     "data": {
      "image/png": "[encoded data removed]",
      "text/plain": [
       "<Figure size 1400x400 with 2 Axes>"
      ]
     },
     "metadata": {},
     "output_type": "display_data"
    }
   ],
   "source": [
    "accuracy_loss_plot(history)"
   ]
  },
  {
   "cell_type": "code",
   "execution_count": 18,
   "metadata": {},
   "outputs": [
    {
     "name": "stdout",
     "output_type": "stream",
     "text": [
      "82/82 [==============================] - 0s 3ms/step - loss: 0.5418 - accuracy: 0.7178\n",
      "Test set\n",
      "  Loss: 0.542\n",
      "  Accuracy: 0.718\n"
     ]
    }
   ],
   "source": [
    "accr = model.evaluate(test_padded,y_test)\n",
    "print('Test set\\n  Loss: {:0.3f}\\n  Accuracy: {:0.3f}'.format(accr[0],accr[1]))"
   ]
  },
  {
   "cell_type": "markdown",
   "metadata": {},
   "source": [
    "- Model 2: Using GloVe Embeddings"
   ]
  },
  {
   "cell_type": "code",
   "execution_count": 14,
   "metadata": {},
   "outputs": [],
   "source": [
    "from tqdm import tqdm\n",
    "from keras.layers import Dense,SpatialDropout1D\n",
    "from nltk.tokenize import word_tokenize\n",
    "\n",
    "\"\"\"Creates corpus from feature column, which is a pandas series\"\"\"\n",
    "def create_corpus(df):\n",
    "    corpus=[]\n",
    "    for phrase in tqdm(df['Phrase']):\n",
    "        words=[word.lower() for word in word_tokenize(phrase) if(word.isalpha()==1)]\n",
    "        corpus.append(words)\n",
    "    return corpus"
   ]
  },
  {
   "cell_type": "code",
   "execution_count": 15,
   "metadata": {},
   "outputs": [],
   "source": [
    "\"\"\"Creates an embedding dictionary using GloVe\"\"\"\n",
    "embedding_dict={}\n",
    "with open('../datasets/glove.6B.100d.txt','r') as f:\n",
    "    for line in f:\n",
    "        values=line.split()\n",
    "        word=values[0]\n",
    "        vectors=np.asarray(values[1:],'float32')\n",
    "        embedding_dict[word]=vectors\n",
    "f.close()"
   ]
  },
  {
   "cell_type": "code",
   "execution_count": 16,
   "metadata": {},
   "outputs": [],
   "source": [
    "\"\"\"Create padded sequences of equal lenght as input to LSTM\"\"\"\n",
    "tokenizer_obj=Tokenizer()\n",
    "\n",
    "def create_padded_inputs(corpus):\n",
    "    MAX_LEN=40\n",
    "    tokenizer_obj.fit_on_texts(corpus)\n",
    "    sequences=tokenizer_obj.texts_to_sequences(corpus)\n",
    "\n",
    "    phrase_pad=pad_sequences(sequences,maxlen=MAX_LEN,truncating='post',padding='post')\n",
    "    return phrase_pad"
   ]
  },
  {
   "cell_type": "code",
   "execution_count": 17,
   "metadata": {},
   "outputs": [
    {
     "name": "stderr",
     "output_type": "stream",
     "text": [
      "100%|██████████| 13004/13004 [00:00<00:00, 15959.74it/s]"
     ]
    },
    {
     "name": "stdout",
     "output_type": "stream",
     "text": [
      "Number of unique words: 4974\n"
     ]
    },
    {
     "name": "stderr",
     "output_type": "stream",
     "text": [
      "\n"
     ]
    }
   ],
   "source": [
    "corpus=create_corpus(df)\n",
    "phrase_pad = create_padded_inputs(corpus)\n",
    "\n",
    "word_index=tokenizer_obj.word_index\n",
    "print('Number of unique words:',len(word_index))"
   ]
  },
  {
   "cell_type": "code",
   "execution_count": 18,
   "metadata": {},
   "outputs": [
    {
     "name": "stderr",
     "output_type": "stream",
     "text": [
      "100%|██████████| 4974/4974 [00:00<00:00, 317826.79it/s]"
     ]
    },
    {
     "name": "stderr",
     "output_type": "stream",
     "text": [
      "\n"
     ]
    }
   ],
   "source": [
    "num_words=len(word_index)+1\n",
    "embedding_matrix=np.zeros((num_words,100))\n",
    "\n",
    "for word,i in tqdm(word_index.items()):\n",
    "    if i > num_words:\n",
    "        continue\n",
    "    \n",
    "    emb_vec=embedding_dict.get(word)\n",
    "    if emb_vec is not None:\n",
    "        embedding_matrix[i]=emb_vec"
   ]
  },
  {
   "cell_type": "code",
   "execution_count": 19,
   "metadata": {},
   "outputs": [],
   "source": [
    "model_embed = tf.keras.models.Sequential([\n",
    "    # Shape [batch, time, features] => [batch, time, lstm_units]\n",
    "    tf.keras.layers.Embedding(num_words,100,embeddings_initializer=Constant(embedding_matrix),\n",
    "                   input_length=40,trainable=False),\n",
    "    tf.keras.layers.SpatialDropout1D(0.2),\n",
    "    tf.keras.layers.LSTM(64, dropout=0.2, recurrent_dropout=0.2),\n",
    "    tf.keras.layers.Dense(units=1, activation='sigmoid')\n",
    "])\n",
    "\n",
    "\n",
    "opt = tf.keras.optimizers.Adam(learning_rate=1e-5)\n",
    "\n",
    "model_embed.compile(loss='binary_crossentropy',optimizer=opt,metrics=['accuracy'])"
   ]
  },
  {
   "cell_type": "code",
   "execution_count": 20,
   "metadata": {},
   "outputs": [
    {
     "name": "stdout",
     "output_type": "stream",
     "text": [
      "Model: \"sequential\"\n",
      "_________________________________________________________________\n",
      " Layer (type)                Output Shape              Param #   \n",
      "=================================================================\n",
      " embedding (Embedding)       (None, 40, 100)           497500    \n",
      "                                                                 \n",
      " spatial_dropout1d (Spatial  (None, 40, 100)           0         \n",
      " Dropout1D)                                                      \n",
      "                                                                 \n",
      " lstm (LSTM)                 (None, 64)                42240     \n",
      "                                                                 \n",
      " dense (Dense)               (None, 1)                 65        \n",
      "                                                                 \n",
      "=================================================================\n",
      "Total params: 539805 (2.06 MB)\n",
      "Trainable params: 42305 (165.25 KB)\n",
      "Non-trainable params: 497500 (1.90 MB)\n",
      "_________________________________________________________________\n"
     ]
    }
   ],
   "source": [
    "model_embed.summary()"
   ]
  },
  {
   "cell_type": "code",
   "execution_count": 21,
   "metadata": {},
   "outputs": [],
   "source": [
    "X_train, y_train, X_test, y_test = split_train_test(phrase_pad, df['Target'], 0.8)"
   ]
  },
  {
   "cell_type": "code",
   "execution_count": 22,
   "metadata": {},
   "outputs": [
    {
     "name": "stdout",
     "output_type": "stream",
     "text": [
      "Epoch 1/30\n",
      "2081/2081 - 38s - loss: 0.6416 - accuracy: 0.6706 - val_loss: 0.4710 - val_accuracy: 0.7905 - 38s/epoch - 18ms/step\n",
      "Epoch 2/30\n",
      "2081/2081 - 34s - loss: 0.5457 - accuracy: 0.7264 - val_loss: 0.4746 - val_accuracy: 0.7593 - 34s/epoch - 16ms/step\n",
      "Epoch 3/30\n",
      "2081/2081 - 34s - loss: 0.5305 - accuracy: 0.7397 - val_loss: 0.4649 - val_accuracy: 0.7621 - 34s/epoch - 16ms/step\n",
      "Epoch 4/30\n",
      "2081/2081 - 34s - loss: 0.5229 - accuracy: 0.7415 - val_loss: 0.4642 - val_accuracy: 0.7617 - 34s/epoch - 16ms/step\n",
      "Epoch 5/30\n",
      "2081/2081 - 34s - loss: 0.5126 - accuracy: 0.7538 - val_loss: 0.4561 - val_accuracy: 0.7631 - 34s/epoch - 16ms/step\n",
      "Epoch 6/30\n",
      "2081/2081 - 34s - loss: 0.5065 - accuracy: 0.7528 - val_loss: 0.4671 - val_accuracy: 0.7530 - 34s/epoch - 16ms/step\n",
      "Epoch 7/30\n",
      "2081/2081 - 34s - loss: 0.5081 - accuracy: 0.7505 - val_loss: 0.4582 - val_accuracy: 0.7689 - 34s/epoch - 16ms/step\n",
      "Epoch 8/30\n",
      "2081/2081 - 34s - loss: 0.4992 - accuracy: 0.7585 - val_loss: 0.4539 - val_accuracy: 0.7665 - 34s/epoch - 16ms/step\n",
      "Epoch 9/30\n",
      "2081/2081 - 35s - loss: 0.4988 - accuracy: 0.7581 - val_loss: 0.4542 - val_accuracy: 0.7689 - 35s/epoch - 17ms/step\n",
      "Epoch 10/30\n",
      "2081/2081 - 34s - loss: 0.4948 - accuracy: 0.7618 - val_loss: 0.4521 - val_accuracy: 0.7655 - 34s/epoch - 16ms/step\n",
      "Epoch 11/30\n",
      "2081/2081 - 37s - loss: 0.4933 - accuracy: 0.7617 - val_loss: 0.4329 - val_accuracy: 0.7929 - 37s/epoch - 18ms/step\n",
      "Epoch 12/30\n",
      "2081/2081 - 37s - loss: 0.4921 - accuracy: 0.7633 - val_loss: 0.4402 - val_accuracy: 0.7900 - 37s/epoch - 18ms/step\n",
      "Epoch 13/30\n",
      "2081/2081 - 38s - loss: 0.4857 - accuracy: 0.7688 - val_loss: 0.4389 - val_accuracy: 0.7823 - 38s/epoch - 18ms/step\n",
      "Epoch 14/30\n",
      "2081/2081 - 35s - loss: 0.4842 - accuracy: 0.7660 - val_loss: 0.4333 - val_accuracy: 0.7881 - 35s/epoch - 17ms/step\n",
      "Epoch 15/30\n",
      "2081/2081 - 35s - loss: 0.4820 - accuracy: 0.7664 - val_loss: 0.4421 - val_accuracy: 0.7823 - 35s/epoch - 17ms/step\n",
      "Epoch 16/30\n",
      "2081/2081 - 38s - loss: 0.4859 - accuracy: 0.7663 - val_loss: 0.4462 - val_accuracy: 0.7775 - 38s/epoch - 18ms/step\n",
      "Epoch 17/30\n",
      "2081/2081 - 38s - loss: 0.4834 - accuracy: 0.7722 - val_loss: 0.4393 - val_accuracy: 0.7881 - 38s/epoch - 18ms/step\n",
      "Epoch 18/30\n",
      "2081/2081 - 36s - loss: 0.4837 - accuracy: 0.7704 - val_loss: 0.4282 - val_accuracy: 0.7934 - 36s/epoch - 17ms/step\n",
      "Epoch 19/30\n",
      "2081/2081 - 37s - loss: 0.4788 - accuracy: 0.7759 - val_loss: 0.4334 - val_accuracy: 0.7842 - 37s/epoch - 18ms/step\n",
      "Epoch 20/30\n",
      "2081/2081 - 37s - loss: 0.4782 - accuracy: 0.7702 - val_loss: 0.4272 - val_accuracy: 0.7943 - 37s/epoch - 18ms/step\n",
      "Epoch 21/30\n",
      "2081/2081 - 39s - loss: 0.4801 - accuracy: 0.7722 - val_loss: 0.4309 - val_accuracy: 0.7905 - 39s/epoch - 19ms/step\n",
      "Epoch 22/30\n",
      "2081/2081 - 38s - loss: 0.4794 - accuracy: 0.7713 - val_loss: 0.4393 - val_accuracy: 0.7823 - 38s/epoch - 18ms/step\n",
      "Epoch 23/30\n",
      "2081/2081 - 35s - loss: 0.4755 - accuracy: 0.7725 - val_loss: 0.4378 - val_accuracy: 0.7775 - 35s/epoch - 17ms/step\n",
      "Epoch 24/30\n",
      "2081/2081 - 35s - loss: 0.4720 - accuracy: 0.7807 - val_loss: 0.4190 - val_accuracy: 0.8011 - 35s/epoch - 17ms/step\n",
      "Epoch 25/30\n",
      "2081/2081 - 39s - loss: 0.4687 - accuracy: 0.7809 - val_loss: 0.4258 - val_accuracy: 0.7914 - 39s/epoch - 19ms/step\n",
      "Epoch 26/30\n",
      "2081/2081 - 39s - loss: 0.4728 - accuracy: 0.7753 - val_loss: 0.4278 - val_accuracy: 0.7862 - 39s/epoch - 19ms/step\n",
      "Epoch 27/30\n",
      "2081/2081 - 39s - loss: 0.4682 - accuracy: 0.7797 - val_loss: 0.4212 - val_accuracy: 0.7972 - 39s/epoch - 19ms/step\n",
      "Epoch 28/30\n",
      "2081/2081 - 34s - loss: 0.4666 - accuracy: 0.7791 - val_loss: 0.4245 - val_accuracy: 0.7924 - 34s/epoch - 17ms/step\n",
      "Epoch 29/30\n",
      "2081/2081 - 37s - loss: 0.4638 - accuracy: 0.7827 - val_loss: 0.4200 - val_accuracy: 0.7963 - 37s/epoch - 18ms/step\n",
      "Epoch 30/30\n",
      "2081/2081 - 34s - loss: 0.4610 - accuracy: 0.7829 - val_loss: 0.4329 - val_accuracy: 0.7866 - 34s/epoch - 16ms/step\n"
     ]
    }
   ],
   "source": [
    "history=model_embed.fit(X_train,y_train,batch_size=4,epochs=30,validation_split=0.2,verbose=2)"
   ]
  },
  {
   "cell_type": "markdown",
   "metadata": {},
   "source": [
    "### Model Evaluations"
   ]
  },
  {
   "cell_type": "code",
   "execution_count": 25,
   "metadata": {},
   "outputs": [
    {
     "data": {
      "image/png": "[encoded data removed]",
      "text/plain": [
       "<Figure size 1400x400 with 2 Axes>"
      ]
     },
     "metadata": {},
     "output_type": "display_data"
    }
   ],
   "source": [
    "accuracy_loss_plot(history)"
   ]
  },
  {
   "cell_type": "code",
   "execution_count": 26,
   "metadata": {},
   "outputs": [
    {
     "name": "stdout",
     "output_type": "stream",
     "text": [
      "82/82 [==============================] - 0s 4ms/step - loss: 0.4758 - accuracy: 0.7555\n",
      "Test set\n",
      "  Loss for model embed: 0.476\n",
      "  Accuracy: 0.755\n"
     ]
    }
   ],
   "source": [
    "accr = model_embed.evaluate(X_test,y_test)\n",
    "print('Test set\\n  Loss for model embed: {:0.3f}\\n  Accuracy: {:0.3f}'.format(accr[0],accr[1]))"
   ]
  },
  {
   "cell_type": "code",
   "execution_count": 27,
   "metadata": {},
   "outputs": [
    {
     "name": "stdout",
     "output_type": "stream",
     "text": [
      "82/82 [==============================] - 1s 5ms/step\n"
     ]
    },
    {
     "data": {
      "image/png": "[encoded data removed]",
      "text/plain": [
       "<Figure size 640x480 with 2 Axes>"
      ]
     },
     "metadata": {},
     "output_type": "display_data"
    }
   ],
   "source": [
    "#evaluate\n",
    "import seaborn as sns\n",
    "from sklearn.metrics import confusion_matrix\n",
    "\n",
    "#convert probabilistic output to binary\n",
    "y_pred = (model_embed.predict(X_test) > 0.5).astype(\"int32\")\n",
    "#confusion matrix\n",
    "confusion_matrix = confusion_matrix(y_test, y_pred)\n",
    "sns.heatmap(confusion_matrix, linewidths = 1, fmt= 'g', annot=True);"
   ]
  },
  {
   "cell_type": "code",
   "execution_count": 28,
   "metadata": {},
   "outputs": [
    {
     "name": "stdout",
     "output_type": "stream",
     "text": [
      "Set Accuracy: \t 75.55\n",
      "Set Precision: \t 0.7\n",
      "Set Recall: \t 0.7\n",
      "Set F score: \t 0.7\n"
     ]
    }
   ],
   "source": [
    "#precision, recall, AUC, ROC Curve\n",
    "from sklearn.metrics import accuracy_score, precision_recall_fscore_support\n",
    "accuracy = accuracy_score(y_test, y_pred)\n",
    "metric = list(precision_recall_fscore_support(y_test, y_pred, average='macro'))\n",
    "print('Set Accuracy: \\t', round(accuracy * 100, 2))\n",
    "print('Set Precision: \\t', round(metric[0], 2))\n",
    "print('Set Recall: \\t', round(metric[1], 2))\n",
    "print('Set F score: \\t', round(metric[2], 2))"
   ]
  },
  {
   "cell_type": "markdown",
   "metadata": {},
   "source": [
    "### Model Saving"
   ]
  },
  {
   "cell_type": "code",
   "execution_count": 29,
   "metadata": {},
   "outputs": [
    {
     "name": "stderr",
     "output_type": "stream",
     "text": [
      "/Users/koechian/anaconda3/envs/skillexplore/lib/python3.10/site-packages/keras/src/engine/training.py:3079: UserWarning: You are saving your model as an HDF5 file via `model.save()`. This file format is considered legacy. We recommend using instead the native Keras format, e.g. `model.save('my_model.keras')`.\n",
      "  saving_api.save_model(\n"
     ]
    }
   ],
   "source": [
    "model_embed.save('models/skillExtractor.h5')"
   ]
  }
 ],
 "metadata": {
  "kernelspec": {
   "display_name": "skillexplore",
   "language": "python",
   "name": "python3"
  },
  "language_info": {
   "codemirror_mode": {
    "name": "ipython",
    "version": 3
   },
   "file_extension": ".py",
   "mimetype": "text/x-python",
   "name": "python",
   "nbconvert_exporter": "python",
   "pygments_lexer": "ipython3",
   "version": "3.10.13"
  }
 },
 "nbformat": 4,
 "nbformat_minor": 2
}
