{
 "cells": [
  {
   "cell_type": "code",
   "execution_count": 1,
   "metadata": {},
   "outputs": [
    {
     "name": "stderr",
     "output_type": "stream",
     "text": [
      "[nltk_data] Downloading package stopwords to\n",
      "[nltk_data]     /Users/koechian/nltk_data...\n",
      "[nltk_data]   Package stopwords is already up-to-date!\n"
     ]
    }
   ],
   "source": [
    "import os\n",
    "import json\n",
    "import pandas as pd\n",
    "import matplotlib.pyplot as plt\n",
    "import regex as re\n",
    "import nltk\n",
    "from nltk.tokenize import word_tokenize\n",
    "import contractions\n",
    "import seaborn as sns\n",
    "\n",
    "nltk.download('stopwords')\n",
    "from nltk.corpus import stopwords\n",
    "stop_words = set(stopwords.words('english'))"
   ]
  },
  {
   "cell_type": "markdown",
   "metadata": {},
   "source": [
    "### Loading Scraped Data and Cleaning"
   ]
  },
  {
   "cell_type": "code",
   "execution_count": 14,
   "metadata": {},
   "outputs": [
    {
     "name": "stdout",
     "output_type": "stream",
     "text": [
      "Loaded batch 1\n",
      "Loaded batch 2\n",
      "Loaded batch 3\n",
      "Loaded batch 4\n",
      "Skipping due to unicode error\n",
      "Loaded batch 5\n",
      "Loaded batch 6\n",
      "Loaded batch 7\n",
      "Loaded batch 8\n",
      "Loaded batch 9\n",
      "Loaded batch 10\n",
      "Loaded batch 11\n",
      "Loaded batch 12\n",
      "Loaded batch 13\n",
      "Loaded batch 14\n",
      "Loaded batch 15\n"
     ]
    }
   ],
   "source": [
    "# Loading in Data and cleaning\n",
    "\n",
    "path = '../../scrapers/Outputs/jobs'\n",
    "# df =pd.DataFrame()\n",
    "temp =[]\n",
    "\n",
    "for index, file in enumerate(os.listdir(path)):\n",
    "    print(f'Loaded batch {index + 1}')\n",
    "    try:\n",
    "      with open(f'{path}/{file}') as jsonfile:\n",
    "        data = pd.DataFrame.from_dict(json.load(jsonfile), orient='index')\n",
    "        temp.append(data)\n",
    "    except UnicodeDecodeError:\n",
    "        print('Skipping due to unicode error')\n"
   ]
  },
  {
   "cell_type": "code",
   "execution_count": 3,
   "metadata": {},
   "outputs": [
    {
     "data": {
      "text/html": [
       "<div>\n",
       "<style scoped>\n",
       "    .dataframe tbody tr th:only-of-type {\n",
       "        vertical-align: middle;\n",
       "    }\n",
       "\n",
       "    .dataframe tbody tr th {\n",
       "        vertical-align: top;\n",
       "    }\n",
       "\n",
       "    .dataframe thead th {\n",
       "        text-align: right;\n",
       "    }\n",
       "</style>\n",
       "<table border=\"1\" class=\"dataframe\">\n",
       "  <thead>\n",
       "    <tr style=\"text-align: right;\">\n",
       "      <th></th>\n",
       "      <th>title</th>\n",
       "      <th>location</th>\n",
       "      <th>nature</th>\n",
       "      <th>description</th>\n",
       "      <th>url</th>\n",
       "    </tr>\n",
       "  </thead>\n",
       "  <tbody>\n",
       "    <tr>\n",
       "      <th>308</th>\n",
       "      <td>Senior C++ Game Developer</td>\n",
       "      <td>Remote (Remote)</td>\n",
       "      <td>Full Time</td>\n",
       "      <td>Job DescriptionWe at Playrix are certain that ...</td>\n",
       "      <td>https://codingkenya.com/job/senior-c-game-deve...</td>\n",
       "    </tr>\n",
       "    <tr>\n",
       "      <th>195</th>\n",
       "      <td>Android Software Engineering Intern</td>\n",
       "      <td>Nairobi</td>\n",
       "      <td>Full Time</td>\n",
       "      <td>As a software engineering intern, you will wor...</td>\n",
       "      <td>https://www.myjobmag.co.ke/job/android-softwar...</td>\n",
       "    </tr>\n",
       "  </tbody>\n",
       "</table>\n",
       "</div>"
      ],
      "text/plain": [
       "                                   title         location     nature  \\\n",
       "308            Senior C++ Game Developer  Remote (Remote)  Full Time   \n",
       "195  Android Software Engineering Intern          Nairobi  Full Time   \n",
       "\n",
       "                                           description  \\\n",
       "308  Job DescriptionWe at Playrix are certain that ...   \n",
       "195  As a software engineering intern, you will wor...   \n",
       "\n",
       "                                                   url  \n",
       "308  https://codingkenya.com/job/senior-c-game-deve...  \n",
       "195  https://www.myjobmag.co.ke/job/android-softwar...  "
      ]
     },
     "execution_count": 3,
     "metadata": {},
     "output_type": "execute_result"
    }
   ],
   "source": [
    "# Concatenating output into one DataFrame\n",
    "df = pd.concat(temp, ignore_index =True)\n",
    "df.sample(2)"
   ]
  },
  {
   "cell_type": "code",
   "execution_count": 4,
   "metadata": {},
   "outputs": [
    {
     "data": {
      "text/plain": [
       "(760, 5)"
      ]
     },
     "execution_count": 4,
     "metadata": {},
     "output_type": "execute_result"
    }
   ],
   "source": [
    "# Dropping listings without description\n",
    "df = df[df[\"description\"] != \"None\"]\n",
    "df.shape"
   ]
  },
  {
   "cell_type": "markdown",
   "metadata": {},
   "source": [
    "- Cleaning up Location Field"
   ]
  },
  {
   "cell_type": "code",
   "execution_count": 5,
   "metadata": {},
   "outputs": [
    {
     "data": {
      "text/html": [
       "<div>\n",
       "<style scoped>\n",
       "    .dataframe tbody tr th:only-of-type {\n",
       "        vertical-align: middle;\n",
       "    }\n",
       "\n",
       "    .dataframe tbody tr th {\n",
       "        vertical-align: top;\n",
       "    }\n",
       "\n",
       "    .dataframe thead th {\n",
       "        text-align: right;\n",
       "    }\n",
       "</style>\n",
       "<table border=\"1\" class=\"dataframe\">\n",
       "  <thead>\n",
       "    <tr style=\"text-align: right;\">\n",
       "      <th></th>\n",
       "      <th>title</th>\n",
       "      <th>location</th>\n",
       "      <th>nature</th>\n",
       "      <th>description</th>\n",
       "      <th>url</th>\n",
       "      <th>city</th>\n",
       "      <th>county</th>\n",
       "    </tr>\n",
       "  </thead>\n",
       "  <tbody>\n",
       "    <tr>\n",
       "      <th>328</th>\n",
       "      <td>Data Analyst</td>\n",
       "      <td>Nairobi, Kenya</td>\n",
       "      <td>Full Time</td>\n",
       "      <td>PurposeWe are looking for a Data Analyst to jo...</td>\n",
       "      <td>https://codingkenya.com/job/data-analyst-3/</td>\n",
       "      <td>Nairobi</td>\n",
       "      <td>Kenya</td>\n",
       "    </tr>\n",
       "    <tr>\n",
       "      <th>426</th>\n",
       "      <td>Cloud Support Eng. I (Databases), Support Engi...</td>\n",
       "      <td>Nairobi</td>\n",
       "      <td>Full Time</td>\n",
       "      <td>Amazon Web Services is the market leader and t...</td>\n",
       "      <td>https://www.brightermonday.co.ke/listings/clou...</td>\n",
       "      <td>Nairobi</td>\n",
       "      <td>None</td>\n",
       "    </tr>\n",
       "    <tr>\n",
       "      <th>311</th>\n",
       "      <td>Senior Backend Engineer</td>\n",
       "      <td>Nairobi, Kenya</td>\n",
       "      <td>Full Time</td>\n",
       "      <td>Role OverviewWe are looking for a Senior Backe...</td>\n",
       "      <td>https://codingkenya.com/job/senior-backend-eng...</td>\n",
       "      <td>Nairobi</td>\n",
       "      <td>Kenya</td>\n",
       "    </tr>\n",
       "    <tr>\n",
       "      <th>688</th>\n",
       "      <td>Information Security Risk &amp; Compliance Officer</td>\n",
       "      <td>Nairobi</td>\n",
       "      <td>Remote</td>\n",
       "      <td>Role Purpose: The Information Security Risk an...</td>\n",
       "      <td>https://www.myjobmag.co.ke/job/information-sec...</td>\n",
       "      <td>Nairobi</td>\n",
       "      <td>None</td>\n",
       "    </tr>\n",
       "    <tr>\n",
       "      <th>287</th>\n",
       "      <td>Principle Engineer – Security</td>\n",
       "      <td>Nairobi, Kenya</td>\n",
       "      <td>Full Time</td>\n",
       "      <td>Principal Security Engineer / Head of IT and S...</td>\n",
       "      <td>https://codingkenya.com/job/principle-engineer...</td>\n",
       "      <td>Nairobi</td>\n",
       "      <td>Kenya</td>\n",
       "    </tr>\n",
       "    <tr>\n",
       "      <th>593</th>\n",
       "      <td>Lead, Data Pricing and Solutions</td>\n",
       "      <td>Nairobi</td>\n",
       "      <td>Full Time</td>\n",
       "      <td>Airtel Kenya wishes to recruit for the positio...</td>\n",
       "      <td>https://www.myjobmag.co.ke/job/lead-data-prici...</td>\n",
       "      <td>Nairobi</td>\n",
       "      <td>None</td>\n",
       "    </tr>\n",
       "  </tbody>\n",
       "</table>\n",
       "</div>"
      ],
      "text/plain": [
       "                                                 title        location  \\\n",
       "328                                       Data Analyst  Nairobi, Kenya   \n",
       "426  Cloud Support Eng. I (Databases), Support Engi...         Nairobi   \n",
       "311                            Senior Backend Engineer  Nairobi, Kenya   \n",
       "688     Information Security Risk & Compliance Officer         Nairobi   \n",
       "287                      Principle Engineer – Security  Nairobi, Kenya   \n",
       "593                   Lead, Data Pricing and Solutions         Nairobi   \n",
       "\n",
       "        nature                                        description  \\\n",
       "328  Full Time  PurposeWe are looking for a Data Analyst to jo...   \n",
       "426  Full Time  Amazon Web Services is the market leader and t...   \n",
       "311  Full Time  Role OverviewWe are looking for a Senior Backe...   \n",
       "688     Remote  Role Purpose: The Information Security Risk an...   \n",
       "287  Full Time  Principal Security Engineer / Head of IT and S...   \n",
       "593  Full Time  Airtel Kenya wishes to recruit for the positio...   \n",
       "\n",
       "                                                   url     city  county  \n",
       "328        https://codingkenya.com/job/data-analyst-3/  Nairobi   Kenya  \n",
       "426  https://www.brightermonday.co.ke/listings/clou...  Nairobi    None  \n",
       "311  https://codingkenya.com/job/senior-backend-eng...  Nairobi   Kenya  \n",
       "688  https://www.myjobmag.co.ke/job/information-sec...  Nairobi    None  \n",
       "287  https://codingkenya.com/job/principle-engineer...  Nairobi   Kenya  \n",
       "593  https://www.myjobmag.co.ke/job/lead-data-prici...  Nairobi    None  "
      ]
     },
     "execution_count": 5,
     "metadata": {},
     "output_type": "execute_result"
    }
   ],
   "source": [
    "# Renaming remote locations to only remote\n",
    "df.loc[df['location'].str.contains('remote', case=False, regex=False), 'location'] = 'Remote'\n",
    "\n",
    "# Remove occurrences of the word \"County\"\n",
    "df['location'] = df['location'].str.replace(r' County', '', regex=True)\n",
    "\n",
    "\n",
    "# Splitting the 'location' column into 'city' and 'county' columns\n",
    "df[['city', 'county']] = df['location'].str.split(',| ', expand=True, n=1)\n",
    "\n",
    "df.sample(6)"
   ]
  },
  {
   "cell_type": "markdown",
   "metadata": {},
   "source": [
    "- Removing Contractions such as shouldn't "
   ]
  },
  {
   "cell_type": "code",
   "execution_count": 6,
   "metadata": {},
   "outputs": [
    {
     "data": {
      "text/html": [
       "<div>\n",
       "<style scoped>\n",
       "    .dataframe tbody tr th:only-of-type {\n",
       "        vertical-align: middle;\n",
       "    }\n",
       "\n",
       "    .dataframe tbody tr th {\n",
       "        vertical-align: top;\n",
       "    }\n",
       "\n",
       "    .dataframe thead th {\n",
       "        text-align: right;\n",
       "    }\n",
       "</style>\n",
       "<table border=\"1\" class=\"dataframe\">\n",
       "  <thead>\n",
       "    <tr style=\"text-align: right;\">\n",
       "      <th></th>\n",
       "      <th>description</th>\n",
       "    </tr>\n",
       "  </thead>\n",
       "  <tbody>\n",
       "    <tr>\n",
       "      <th>315</th>\n",
       "      <td>JOB DESCRIPTION We are pleased to announce the...</td>\n",
       "    </tr>\n",
       "    <tr>\n",
       "      <th>750</th>\n",
       "      <td>Job DescriptionWe are looking for a Senior Ser...</td>\n",
       "    </tr>\n",
       "    <tr>\n",
       "      <th>535</th>\n",
       "      <td>About the jobWe are hiring an iOS Developer. W...</td>\n",
       "    </tr>\n",
       "    <tr>\n",
       "      <th>466</th>\n",
       "      <td>The role:The Senior Backend Developer role wor...</td>\n",
       "    </tr>\n",
       "    <tr>\n",
       "      <th>197</th>\n",
       "      <td>About This Job:On behalf of our client, we are...</td>\n",
       "    </tr>\n",
       "    <tr>\n",
       "      <th>88</th>\n",
       "      <td>The JobThe Mobile Engineer will be responsible...</td>\n",
       "    </tr>\n",
       "    <tr>\n",
       "      <th>224</th>\n",
       "      <td>The RoleThis is a full-time role based in Nair...</td>\n",
       "    </tr>\n",
       "    <tr>\n",
       "      <th>276</th>\n",
       "      <td>About Ona.The world's leading humanitarian, de...</td>\n",
       "    </tr>\n",
       "    <tr>\n",
       "      <th>301</th>\n",
       "      <td>About the jobSeveral Java Software Engineers a...</td>\n",
       "    </tr>\n",
       "    <tr>\n",
       "      <th>94</th>\n",
       "      <td>Have a MSc in Geomatics/Geodesy/Geospatial Inf...</td>\n",
       "    </tr>\n",
       "  </tbody>\n",
       "</table>\n",
       "</div>"
      ],
      "text/plain": [
       "                                           description\n",
       "315  JOB DESCRIPTION We are pleased to announce the...\n",
       "750  Job DescriptionWe are looking for a Senior Ser...\n",
       "535  About the jobWe are hiring an iOS Developer. W...\n",
       "466  The role:The Senior Backend Developer role wor...\n",
       "197  About This Job:On behalf of our client, we are...\n",
       "88   The JobThe Mobile Engineer will be responsible...\n",
       "224  The RoleThis is a full-time role based in Nair...\n",
       "276  About Ona.The world's leading humanitarian, de...\n",
       "301  About the jobSeveral Java Software Engineers a...\n",
       "94   Have a MSc in Geomatics/Geodesy/Geospatial Inf..."
      ]
     },
     "execution_count": 6,
     "metadata": {},
     "output_type": "execute_result"
    }
   ],
   "source": [
    "#Extracting Job Descriptions\n",
    "descriptions_df = df['description'].to_frame()\n",
    "descriptions_df.sample(10)"
   ]
  },
  {
   "cell_type": "code",
   "execution_count": 8,
   "metadata": {},
   "outputs": [
    {
     "data": {
      "text/html": [
       "<div>\n",
       "<style scoped>\n",
       "    .dataframe tbody tr th:only-of-type {\n",
       "        vertical-align: middle;\n",
       "    }\n",
       "\n",
       "    .dataframe tbody tr th {\n",
       "        vertical-align: top;\n",
       "    }\n",
       "\n",
       "    .dataframe thead th {\n",
       "        text-align: right;\n",
       "    }\n",
       "</style>\n",
       "<table border=\"1\" class=\"dataframe\">\n",
       "  <thead>\n",
       "    <tr style=\"text-align: right;\">\n",
       "      <th></th>\n",
       "      <th>description</th>\n",
       "    </tr>\n",
       "  </thead>\n",
       "  <tbody>\n",
       "    <tr>\n",
       "      <th>37</th>\n",
       "      <td>Job DescriptionAs the Senior C# Cross Platform...</td>\n",
       "    </tr>\n",
       "    <tr>\n",
       "      <th>273</th>\n",
       "      <td>About the jobWhat we are buildingOvermind is a...</td>\n",
       "    </tr>\n",
       "    <tr>\n",
       "      <th>212</th>\n",
       "      <td>About the jobWe are seeking an experienced and...</td>\n",
       "    </tr>\n",
       "    <tr>\n",
       "      <th>552</th>\n",
       "      <td>About KOKO NetworksKOKO Networks is a venture-...</td>\n",
       "    </tr>\n",
       "    <tr>\n",
       "      <th>365</th>\n",
       "      <td>The team you will be part ofAs Nokia's growth ...</td>\n",
       "    </tr>\n",
       "    <tr>\n",
       "      <th>689</th>\n",
       "      <td>Key Duties and Responsibilities Drive Bank's p...</td>\n",
       "    </tr>\n",
       "    <tr>\n",
       "      <th>208</th>\n",
       "      <td>About the Role We are looking for an accomplis...</td>\n",
       "    </tr>\n",
       "    <tr>\n",
       "      <th>12</th>\n",
       "      <td>QUALIFICATIONS,REQUIREMENTS, DUTIES AND RESPON...</td>\n",
       "    </tr>\n",
       "    <tr>\n",
       "      <th>104</th>\n",
       "      <td>About The JobGoogle's Senior Software Engineer...</td>\n",
       "    </tr>\n",
       "    <tr>\n",
       "      <th>575</th>\n",
       "      <td>Job Purpose The Role holder will be responsibl...</td>\n",
       "    </tr>\n",
       "  </tbody>\n",
       "</table>\n",
       "</div>"
      ],
      "text/plain": [
       "                                           description\n",
       "37   Job DescriptionAs the Senior C# Cross Platform...\n",
       "273  About the jobWhat we are buildingOvermind is a...\n",
       "212  About the jobWe are seeking an experienced and...\n",
       "552  About KOKO NetworksKOKO Networks is a venture-...\n",
       "365  The team you will be part ofAs Nokia's growth ...\n",
       "689  Key Duties and Responsibilities Drive Bank's p...\n",
       "208  About the Role We are looking for an accomplis...\n",
       "12   QUALIFICATIONS,REQUIREMENTS, DUTIES AND RESPON...\n",
       "104  About The JobGoogle's Senior Software Engineer...\n",
       "575  Job Purpose The Role holder will be responsibl..."
      ]
     },
     "execution_count": 8,
     "metadata": {},
     "output_type": "execute_result"
    }
   ],
   "source": [
    "df['description'] = df['description'].str.replace(r'CLICK HERE\\b.*', '', regex=True, case=False)\n",
    "descriptions_df['description'] = descriptions_df['description'].apply(lambda x: [contractions.fix(word) for word in x.split()])\n",
    "\n",
    "#cocatenating items back into a single string\n",
    "descriptions_df['description'] = [' '.join(map(str, l)) for l in descriptions_df['description']]\n",
    "descriptions_df.sample(10, random_state = 5)"
   ]
  },
  {
   "cell_type": "code",
   "execution_count": 9,
   "metadata": {},
   "outputs": [
    {
     "data": {
      "text/html": [
       "<div>\n",
       "<style scoped>\n",
       "    .dataframe tbody tr th:only-of-type {\n",
       "        vertical-align: middle;\n",
       "    }\n",
       "\n",
       "    .dataframe tbody tr th {\n",
       "        vertical-align: top;\n",
       "    }\n",
       "\n",
       "    .dataframe thead th {\n",
       "        text-align: right;\n",
       "    }\n",
       "</style>\n",
       "<table border=\"1\" class=\"dataframe\">\n",
       "  <thead>\n",
       "    <tr style=\"text-align: right;\">\n",
       "      <th></th>\n",
       "      <th>description</th>\n",
       "      <th>tokenized</th>\n",
       "    </tr>\n",
       "  </thead>\n",
       "  <tbody>\n",
       "    <tr>\n",
       "      <th>157</th>\n",
       "      <td>duties basic function of the position incumben...</td>\n",
       "      <td>[duties, basic, function, of, the, position, i...</td>\n",
       "    </tr>\n",
       "    <tr>\n",
       "      <th>113</th>\n",
       "      <td>about the jobdrive the future of collaborative...</td>\n",
       "      <td>[about, the, jobdrive, the, future, of, collab...</td>\n",
       "    </tr>\n",
       "    <tr>\n",
       "      <th>518</th>\n",
       "      <td>smg service management group is looking for a...</td>\n",
       "      <td>[smg, service, management, group, is, looking,...</td>\n",
       "    </tr>\n",
       "    <tr>\n",
       "      <th>341</th>\n",
       "      <td>job summarythe wikimedia foundation is looking...</td>\n",
       "      <td>[job, summarythe, wikimedia, foundation, is, l...</td>\n",
       "    </tr>\n",
       "    <tr>\n",
       "      <th>731</th>\n",
       "      <td>about this role as the lead software engineer ...</td>\n",
       "      <td>[about, this, role, as, the, lead, software, e...</td>\n",
       "    </tr>\n",
       "    <tr>\n",
       "      <th>663</th>\n",
       "      <td>the position this is an exciting time to join ...</td>\n",
       "      <td>[the, position, this, is, an, exciting, time, ...</td>\n",
       "    </tr>\n",
       "    <tr>\n",
       "      <th>231</th>\n",
       "      <td>job descriptionwe are looking for a principle ...</td>\n",
       "      <td>[job, descriptionwe, are, looking, for, a, pri...</td>\n",
       "    </tr>\n",
       "    <tr>\n",
       "      <th>446</th>\n",
       "      <td>job summary the monitoring and evaluation me o...</td>\n",
       "      <td>[job, summary, the, monitoring, and, evaluatio...</td>\n",
       "    </tr>\n",
       "    <tr>\n",
       "      <th>588</th>\n",
       "      <td>about the rolewe are looking for an experience...</td>\n",
       "      <td>[about, the, rolewe, are, looking, for, an, ex...</td>\n",
       "    </tr>\n",
       "    <tr>\n",
       "      <th>724</th>\n",
       "      <td>the opportunityrequirementslooking for a servi...</td>\n",
       "      <td>[the, opportunityrequirementslooking, for, a, ...</td>\n",
       "    </tr>\n",
       "  </tbody>\n",
       "</table>\n",
       "</div>"
      ],
      "text/plain": [
       "                                           description  \\\n",
       "157  duties basic function of the position incumben...   \n",
       "113  about the jobdrive the future of collaborative...   \n",
       "518   smg service management group is looking for a...   \n",
       "341  job summarythe wikimedia foundation is looking...   \n",
       "731  about this role as the lead software engineer ...   \n",
       "663  the position this is an exciting time to join ...   \n",
       "231  job descriptionwe are looking for a principle ...   \n",
       "446  job summary the monitoring and evaluation me o...   \n",
       "588  about the rolewe are looking for an experience...   \n",
       "724  the opportunityrequirementslooking for a servi...   \n",
       "\n",
       "                                             tokenized  \n",
       "157  [duties, basic, function, of, the, position, i...  \n",
       "113  [about, the, jobdrive, the, future, of, collab...  \n",
       "518  [smg, service, management, group, is, looking,...  \n",
       "341  [job, summarythe, wikimedia, foundation, is, l...  \n",
       "731  [about, this, role, as, the, lead, software, e...  \n",
       "663  [the, position, this, is, an, exciting, time, ...  \n",
       "231  [job, descriptionwe, are, looking, for, a, pri...  \n",
       "446  [job, summary, the, monitoring, and, evaluatio...  \n",
       "588  [about, the, rolewe, are, looking, for, an, ex...  \n",
       "724  [the, opportunityrequirementslooking, for, a, ...  "
      ]
     },
     "execution_count": 9,
     "metadata": {},
     "output_type": "execute_result"
    }
   ],
   "source": [
    "# Noise removal and tokenization\n",
    "\n",
    "descriptions_df['description'] = descriptions_df['description'].str.lower()\n",
    "descriptions_df['description'] = descriptions_df['description'].apply(lambda x: re.sub(r'[^\\w\\d\\s\\']+', '', x))\n",
    "\n",
    "\n",
    "#nltk tokenization\n",
    "descriptions_df['tokenized'] = descriptions_df['description'].apply(word_tokenize)\n",
    "descriptions_df.sample(10)"
   ]
  },
  {
   "cell_type": "code",
   "execution_count": 10,
   "metadata": {},
   "outputs": [
    {
     "data": {
      "image/png": "[encoded data removed]",
      "text/plain": [
       "<Figure size 1000x1000 with 1 Axes>"
      ]
     },
     "metadata": {},
     "output_type": "display_data"
    }
   ],
   "source": [
    "# Stop Word Analysis and removal\n",
    "def plot_top_stopwords_barchart(text):\n",
    "    stop=set(stopwords.words('english'))\n",
    "    \n",
    "    new= text.str.split()\n",
    "    new=new.values.tolist()\n",
    "    corpus=[word for i in new for word in i]\n",
    "    from collections import defaultdict\n",
    "    dic=defaultdict(int)\n",
    "    for word in corpus:\n",
    "        if word in stop:\n",
    "            dic[word]+=1\n",
    "            \n",
    "    top=sorted(dic.items(), key=lambda x:x[1],reverse=True)[:10]\n",
    "    x,y=zip(*top)\n",
    "    plt.figure(figsize=(10,10))\n",
    "    plt.bar(x,y)\n",
    "\n",
    "plot_top_stopwords_barchart(descriptions_df['description'])"
   ]
  },
  {
   "cell_type": "markdown",
   "metadata": {},
   "source": [
    "### Exploratory Analysis"
   ]
  },
  {
   "cell_type": "code",
   "execution_count": 11,
   "metadata": {},
   "outputs": [
    {
     "data": {
      "text/plain": [
       "<Axes: xlabel='city', ylabel='Counts'>"
      ]
     },
     "execution_count": 11,
     "metadata": {},
     "output_type": "execute_result"
    },
    {
     "data": {
      "image/png": "[encoded data removed]",
      "text/plain": [
       "<Figure size 1500x1300 with 1 Axes>"
      ]
     },
     "metadata": {},
     "output_type": "display_data"
    }
   ],
   "source": [
    "plt.figure(figsize=(15,13))\n",
    "\n",
    "plt.xlabel(\"City\")\n",
    "plt.ylabel(\"Counts\")\n",
    "df[\"city\"].value_counts().plot(kind='bar')"
   ]
  },
  {
   "cell_type": "code",
   "execution_count": 12,
   "metadata": {},
   "outputs": [
    {
     "name": "stdout",
     "output_type": "stream",
     "text": [
      "There are 642 unique Job titles out of 760 entries\n"
     ]
    }
   ],
   "source": [
    "print(f'There are {len(df[\"title\"].unique())} unique Job titles out of {df.shape[0]} entries')\n",
    "\n",
    "# Using the Job Titles as a metric for analysis need the titles to be further evaluated. out of 700 Jobs, there are 600 unique ones, meaning alot of job titles have been over lapped."
   ]
  },
  {
   "cell_type": "code",
   "execution_count": 13,
   "metadata": {},
   "outputs": [
    {
     "data": {
      "image/png": "[encoded data removed]",
      "text/plain": [
       "<Figure size 1000x1000 with 1 Axes>"
      ]
     },
     "metadata": {},
     "output_type": "display_data"
    }
   ],
   "source": [
    "from collections import  Counter\n",
    "\n",
    "def plot_top_non_stopwords_barchart(text):\n",
    "    stop=set(stopwords.words('english'))\n",
    "    \n",
    "    new= text.str.split()\n",
    "    new=new.values.tolist()\n",
    "    corpus=[word for i in new for word in i]\n",
    "\n",
    "    counter=Counter(corpus)\n",
    "    most=counter.most_common()\n",
    "    x, y=[], []\n",
    "    for word,count in most[:50]:\n",
    "        if (word not in stop):\n",
    "            x.append(word)\n",
    "            y.append(count)\n",
    "    plt.figure(figsize=(10,10))\n",
    "    sns.barplot(x=y,y=x)\n",
    "\n",
    "plot_top_non_stopwords_barchart(descriptions_df['description'])"
   ]
  },
  {
   "cell_type": "markdown",
   "metadata": {},
   "source": [
    "## Verdict\n",
    "\n",
    "- Some of the data in the exploratory analysis could be used in the final front end\n",
    "- Data such as locations is clean enough for usage. \n",
    "- Skills will have to be extracted via a model\n",
    "- N-Gram and NER was a failure"
   ]
  }
 ],
 "metadata": {
  "kernelspec": {
   "display_name": "skillexplore",
   "language": "python",
   "name": "python3"
  },
  "language_info": {
   "codemirror_mode": {
    "name": "ipython",
    "version": 3
   },
   "file_extension": ".py",
   "mimetype": "text/x-python",
   "name": "python",
   "nbconvert_exporter": "python",
   "pygments_lexer": "ipython3",
   "version": "3.10.13"
  }
 },
 "nbformat": 4,
 "nbformat_minor": 2
}
