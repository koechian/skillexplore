{
 "cells": [
  {
   "cell_type": "code",
   "execution_count": 71,
   "metadata": {
    "ExecuteTime": {
     "end_time": "2023-09-15T06:12:29.567538894Z",
     "start_time": "2023-09-15T06:12:29.515486637Z"
    }
   },
   "outputs": [],
   "source": [
    "from selenium import webdriver\n",
    "from selenium.webdriver.support.ui import WebDriverWait\n",
    "from selenium.webdriver.chrome.options import Options\n",
    "from selenium.common.exceptions import NoSuchElementException\n",
    "from selenium.common.exceptions import TimeoutException as TS\n",
    "from selenium.webdriver.support import expected_conditions as conditions\n",
    "from selenium.webdriver.common.by import By\n",
    "import pickle as pk"
   ]
  },
  {
   "cell_type": "code",
   "execution_count": 72,
   "outputs": [],
   "source": [
    "def url_builder(page):\n",
    "    url = f\"https://www.myjobmag.co.ke/jobs-by-field/information-technology/{page}\"\n",
    "    return url"
   ],
   "metadata": {
    "collapsed": false,
    "ExecuteTime": {
     "end_time": "2023-09-15T06:12:29.567949141Z",
     "start_time": "2023-09-15T06:12:29.558597293Z"
    }
   }
  },
  {
   "cell_type": "code",
   "execution_count": 73,
   "metadata": {
    "ExecuteTime": {
     "end_time": "2023-09-15T06:12:29.568137892Z",
     "start_time": "2023-09-15T06:12:29.559045036Z"
    }
   },
   "outputs": [],
   "source": [
    "def fetch_links(driver, url):\n",
    "    driver.get(url)\n",
    "    \n",
    "    # wait for the page to load\n",
    "    WebDriverWait(driver, 10)\n",
    "\n",
    "    links = []\n",
    "    x = 1  # Starting value of x\n",
    "    skip_counter = 0\n",
    "\n",
    "    while x < 24:\n",
    "        try:\n",
    "            # Construct the XPath for the div with the current x value\n",
    "            xpath = f\"//*[@id='cat-left-sec']/ul/li[{x}]/ul/li[2]/ul/li[1]/h2/a\"\n",
    "            \n",
    "            # try to get the element specified by the xpath, if it does not exist skip it\n",
    "            try:\n",
    "                WebDriverWait(driver, 1).until(\n",
    "                conditions.presence_of_element_located((By.XPATH, xpath))\n",
    "                )\n",
    "            except TS:\n",
    "                x += 1\n",
    "                skip_counter+=1\n",
    "                continue\n",
    "                \n",
    "                \n",
    "            element = driver.find_element_by_xpath(xpath)\n",
    "            try:\n",
    "                # Find and store the first link within the div, if it exists\n",
    "                links.append(element.get_attribute(\"href\"))\n",
    "                                \n",
    "            except NoSuchElementException:\n",
    "                pass\n",
    "\n",
    "            x += 1  # Increment x for the next iteration\n",
    "\n",
    "        except NoSuchElementException:\n",
    "            # When there are no more divs with the current x value, exit the loop\n",
    "            break\n",
    "\n",
    "    # Removing any duplicates and misleading links\n",
    "    # links = [link for link in links if \"listings\" in link]\n",
    "    # links = list(set(links))\n",
    "    \n",
    "    return links"
   ]
  },
  {
   "cell_type": "code",
   "execution_count": 74,
   "outputs": [],
   "source": [
    "def store_links(links):\n",
    "    file = open('links/myjobmag_links','wb')\n",
    "    pk.dump(links,file)\n",
    "    file.close()"
   ],
   "metadata": {
    "collapsed": false,
    "ExecuteTime": {
     "end_time": "2023-09-15T06:12:29.568286354Z",
     "start_time": "2023-09-15T06:12:29.559460567Z"
    }
   }
  },
  {
   "cell_type": "code",
   "execution_count": 75,
   "outputs": [
    {
     "name": "stdout",
     "output_type": "stream",
     "text": [
      "Fetching job links from https://www.myjobmag.co.ke/jobs-by-field/information-technology\n",
      "Fetching job links from https://www.myjobmag.co.ke/jobs-by-field/information-technology/2\n",
      "Fetching job links from https://www.myjobmag.co.ke/jobs-by-field/information-technology/3\n",
      "Fetching job links from https://www.myjobmag.co.ke/jobs-by-field/information-technology/4\n",
      "Fetching job links from https://www.myjobmag.co.ke/jobs-by-field/information-technology/5\n",
      "Fetching job links from https://www.myjobmag.co.ke/jobs-by-field/information-technology/6\n",
      "Fetching job links from https://www.myjobmag.co.ke/jobs-by-field/information-technology/7\n",
      "Fetching job links from https://www.myjobmag.co.ke/jobs-by-field/information-technology/8\n",
      "Fetching job links from https://www.myjobmag.co.ke/jobs-by-field/information-technology/9\n",
      "Done. 162 links have been fetched and pickled🫙\n"
     ]
    }
   ],
   "source": [
    "def main():\n",
    "    options = Options()\n",
    "    options.add_argument(\"--headless\")\n",
    "    urls = [\"https://www.myjobmag.co.ke/jobs-by-field/information-technology\"]\n",
    "    links = []\n",
    "\n",
    "    driver = webdriver.Chrome(options=options)\n",
    "\n",
    "    # Adding the paginated pages to the root url\n",
    "    # done up to page 5 to limit the results to recent information only\n",
    "    # starts from page 2 because page 1 is already accounted for in the initial list\n",
    "    for x in range(2, 10):\n",
    "        urls.append(url_builder(x))\n",
    "\n",
    "    for url in urls:\n",
    "        print(f\"Fetching job links from {url}\")\n",
    "        links.append(fetch_links(driver, url))\n",
    "        \n",
    "    # flattening the lists into one dimension\n",
    "    links = [link for sublist in links for link in sublist]\n",
    "    store_links(links)\n",
    "    \n",
    "    \n",
    "    print(f\"Done. {len(links)} links have been fetched and pickled🫙\")    \n",
    "    # Closes driver agent\n",
    "    driver.__exit__()\n",
    "\n",
    "\n",
    "if __name__ == \"__main__\":\n",
    "    main()"
   ],
   "metadata": {
    "collapsed": false,
    "ExecuteTime": {
     "end_time": "2023-09-15T06:13:46.413436355Z",
     "start_time": "2023-09-15T06:12:29.559734310Z"
    }
   }
  }
 ],
 "metadata": {
  "kernelspec": {
   "display_name": "Python 3",
   "language": "python",
   "name": "python3"
  },
  "language_info": {
   "codemirror_mode": {
    "name": "ipython",
    "version": 3
   },
   "file_extension": ".py",
   "mimetype": "text/x-python",
   "name": "python",
   "nbconvert_exporter": "python",
   "pygments_lexer": "ipython3",
   "version": "3.10.12"
  },
  "orig_nbformat": 4
 },
 "nbformat": 4,
 "nbformat_minor": 2
}
