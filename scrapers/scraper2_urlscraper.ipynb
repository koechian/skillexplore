{
 "cells": [
  {
   "cell_type": "markdown",
   "source": [
    "#### This module loads pickled url files and unpacks them into one list item then visits the links and scrapes the data"
   ],
   "metadata": {
    "collapsed": false
   },
   "id": "a816b54d50d432c6"
  },
  {
   "cell_type": "code",
   "execution_count": 76,
   "id": "initial_id",
   "metadata": {
    "collapsed": true,
    "ExecuteTime": {
     "end_time": "2023-09-06T05:08:41.524878846Z",
     "start_time": "2023-09-06T05:08:41.460842278Z"
    }
   },
   "outputs": [],
   "source": [
    "import pickle as pk\n",
    "import os\n",
    "from bs4 import BeautifulSoup\n",
    "\n",
    "from selenium import webdriver\n",
    "from selenium.webdriver.chrome.options import Options\n",
    "from selenium.common.exceptions import NoSuchElementException\n",
    "from selenium.webdriver.support.ui import WebDriverWait\n",
    "from selenium.webdriver.support import expected_conditions as conditions\n",
    "from selenium.webdriver.common.by import By\n",
    "\n"
   ]
  },
  {
   "cell_type": "code",
   "execution_count": 77,
   "outputs": [],
   "source": [
    "files = os.listdir('links/')"
   ],
   "metadata": {
    "collapsed": false,
    "ExecuteTime": {
     "end_time": "2023-09-06T05:08:41.525122230Z",
     "start_time": "2023-09-06T05:08:41.507726941Z"
    }
   },
   "id": "1826af96c8670e14"
  },
  {
   "cell_type": "code",
   "execution_count": 78,
   "outputs": [],
   "source": [
    "urls = []\n",
    "for file in files:\n",
    "    _ = open(('links/'+file),'rb')\n",
    "    urls.append(pk.load(_))\n",
    "\n",
    "urls = [url for sublist in urls for url in sublist]\n",
    "# len(urls)"
   ],
   "metadata": {
    "collapsed": false,
    "ExecuteTime": {
     "end_time": "2023-09-06T05:08:41.525210936Z",
     "start_time": "2023-09-06T05:08:41.507900993Z"
    }
   },
   "id": "e73080d0fe03439d"
  },
  {
   "cell_type": "code",
   "execution_count": 79,
   "outputs": [],
   "source": [
    "options = Options()\n",
    "options.add_argument('--user-agent=Mozilla/5.0 (Windows NT 10.0; Win64; x64) AppleWebKit/537.36 (KHTML, like Gecko) Chrome/109.0.0.0 Safari/537.36')\n",
    "options.add_argument(\"--headless\")\n",
    "options.add_argument(\"--disable-blink-features=AutomationControlled\")\n",
    "driver = webdriver.Chrome(options=options)"
   ],
   "metadata": {
    "collapsed": false,
    "ExecuteTime": {
     "end_time": "2023-09-06T05:08:42.675637494Z",
     "start_time": "2023-09-06T05:08:41.507965177Z"
    }
   },
   "id": "70f29993d2b185e3"
  },
  {
   "cell_type": "code",
   "execution_count": 80,
   "outputs": [],
   "source": [
    "def parser(dirty):\n",
    "    \n",
    "    text = BeautifulSoup(dirty,'html.parser').get_text()\n",
    "    cleaned = text.replace(\"\\n\", \" \").replace(\"\\xa0\", \" \")\n",
    "    return cleaned\n",
    "    "
   ],
   "metadata": {
    "collapsed": false,
    "ExecuteTime": {
     "end_time": "2023-09-06T05:08:42.686853560Z",
     "start_time": "2023-09-06T05:08:42.680636779Z"
    }
   },
   "id": "41952852e6487266"
  },
  {
   "cell_type": "code",
   "execution_count": 81,
   "outputs": [
    {
     "name": "stdout",
     "output_type": "stream",
     "text": [
      "Going to https://www.brightermonday.co.ke/listings/senior-secops-engineer-np5gpw\n"
     ]
    }
   ],
   "source": [
    "try:\n",
    "    jobs = {}\n",
    "    xpath = {'company':'//h2[@class=\"pb-1 text-sm font-normal\"]',\n",
    "             'title':'//*[@id=\"tab1\"]/div/article/div[2]/div[2]/h1',\n",
    "             'description':\"//*[@id='tab1']/div/article/div[5]/div\",\n",
    "             'location':'//*[@id=\"tab1\"]/div/article/div[2]/div[2]/div[1]/*[1]',\n",
    "             'nature':'//*[@id=\"tab1\"]/div/article/div[2]/div[2]/div[1]/*[2]',\n",
    "             'salary':'//*[@id=\"tab1\"]/div/article/div[2]/div[2]/div[2]/span[1]/span',\n",
    "             'posted':'//*[@id=\"tab1\"]/div/article/div[3]/div[2]'\n",
    "             }\n",
    "        \n",
    "        \n",
    "    driver.get(urls[37])\n",
    "    print(f\"Going to {urls[37]}\")\n",
    "    WebDriverWait(driver, 10).until(conditions.presence_of_element_located((By.XPATH, xpath['description'])),)\n",
    "    \n",
    "    #  get job details and clean innerHTML from posted and description \n",
    "    company = driver.find_element_by_xpath(xpath[\"company\"])\n",
    "    title = driver.find_element_by_xpath(xpath[\"title\"])\n",
    "    location = driver.find_element_by_xpath(xpath['location'])\n",
    "    nature = driver.find_element_by_xpath(xpath['nature'])\n",
    "    salary = driver.find_element_by_xpath(xpath[\"salary\"])\n",
    "    posted = parser(driver.find_element_by_xpath(xpath[\"posted\"]).get_attribute(\"innerHTML\")) \n",
    "    description = parser(driver.find_element_by_xpath(xpath['description']).get_attribute(\"innerHTML\"))\n",
    "     \n",
    "    jobs.update({'company':company.text,\n",
    "                 'title':title.text,\n",
    "                 'location':location.text,\n",
    "                 'nature':nature.text,\n",
    "                 'salary': (salary.text if len(salary.text) > 6 else \"Unspecified\"),\n",
    "                 'description':description,\n",
    "                 'posted':posted\n",
    "                 })\n",
    "    \n",
    "except NoSuchElementException:\n",
    "    print(\"Hii stuff haiko buda\")\n",
    "    \n",
    "driver.quit()\n",
    "        "
   ],
   "metadata": {
    "collapsed": false,
    "ExecuteTime": {
     "end_time": "2023-09-06T05:08:45.533979614Z",
     "start_time": "2023-09-06T05:08:42.692501896Z"
    }
   },
   "id": "a7379fc178d6dd13"
  },
  {
   "cell_type": "code",
   "execution_count": 82,
   "outputs": [
    {
     "data": {
      "text/plain": "{'company': 'Tala',\n 'title': 'Senior SecOps Engineer',\n 'location': 'Nairobi',\n 'nature': 'Full Time',\n 'salary': 'Unspecified',\n 'description': \"  About Tala Tala is a global technology company building the worldâs most accessible financial services. With more than $350 million raised from visionary investors, we are serving millions of customers around the world who have been overlooked by traditional financial institutions â and our plan is to serve millions more, and have been named by theÂ FortuneÂ Impact 20 list,Â CNBCâs Disruptor 50, andÂ ForbesâÂ Fintech 50 list for five years running. We are expanding across product offerings, countries and crypto and are looking for people who have an entrepreneurial spirit and are passionate about the mission.By creating a unique platform that enables lending and other financial services around the globe, people in emerging markets are able to start and expand small businesses, manage day-to-day needs, and pursue their financial goals with confidence. Currently, more than 7 million people across Kenya, the Philippines, Mexico, and India have used Tala products. Due to our global team, we have a remote-first approach, and also have offices in Santa Monica, CA (HQ); Nairobi, Kenya; Mexico City, Mexico; Manila, the Philippines; and Bangalore, India.Â Most Talazens join us because they connect with our mission of enabling financial agency for underbanked people around the world. If you are energized by the impact you can make at Tala, weâd love to hear from you!We are currently seeking a Snr Secops Engineer to design, implement and maintain suitable infrastructure and application security solutions on AWS and GCP public cloud environments using DevSecOps mindset. The successful candidate will bring world class cloud-native security expertise to implement solutions for security configuration hardening, vulnerability management, detection, protection and monitoring of security threats and intrusions, in an automated fashion.Â    What You'll DO  Driving the design and implementation of defense-in-depth infrastructure and application security solutions for our customer facing SaaS platform in AWS & GCP public cloud environments Driving architecture, implementation, configuration and automation of native and third party cloud security solutions for hardening, detection, prevention, logging and response solutions for security vulnerabilities and threats Provide thought leadership with a security bent of mind to the organization Working closely with Product, Engineering and IT in a DevSecOps model on technologies like FWs, ACLs, WAFs, IAM roles and permissions, Vulnerability management and hardening, Threat and Intrusion detection, Kubernetes Container Security solutions Assisting in incident response and triaging activities as needed for security incidents and events   What You'll Need  Degree in Computer Science or related field or equivalent combination of professional development training and experience 3-5 years of previous experience deploying and administering security infrastructure in GCP or AWS public cloud environments, using Infrastructure as Code required In-depth hands-on experience with at least one public Cloud platform (AWS or GCP) with advanced knowledge of securing IaaS platforms and services like WAFs, Security Groups, EC2/Compute, EKS/GKE, ECR/GCR, S3/Cloud Storage, RDS/Cloud SQL, Logging and Monitoring Prior experience working closely with Product, DevOps and CloudOps' Site Reliability Engineers on shift-left strategies, CI/CD tools and solutions needed Security experience in a cloud native environment in one or more areas: authentication, access management, API security, Linux security, vulnerability scanning, threat and intrusion detection, firewalls, WAF, encryption technologies, container security etc. Experience using a programming language such as Python for automation (would be a plus) Security certifications such as AWS, GCP , CISSP, CEH, OSCP preferred Excellent verbal and written communication skills and ability to document and explain technical details and concepts clearly and concisely Agility and willingness to deal with a high level of ambiguity, change, and pressures of high-profile incidents Flexibility to pitch in where needed across program and team Strong influence and teamwork skills; sound problem resolution, judgment, negotiating, and decision-making skills Strong knowledge of industry standards, vulnerability classifications, and attack vectors Experience working effectively with global teams in multiple time zones \",\n 'posted': ' 6 days ago '}"
     },
     "execution_count": 82,
     "metadata": {},
     "output_type": "execute_result"
    }
   ],
   "source": [
    "jobs"
   ],
   "metadata": {
    "collapsed": false,
    "ExecuteTime": {
     "end_time": "2023-09-06T05:08:45.535379930Z",
     "start_time": "2023-09-06T05:08:45.531738905Z"
    }
   },
   "id": "3f438c756d833200"
  }
 ],
 "metadata": {
  "kernelspec": {
   "display_name": "Python 3",
   "language": "python",
   "name": "python3"
  },
  "language_info": {
   "codemirror_mode": {
    "name": "ipython",
    "version": 2
   },
   "file_extension": ".py",
   "mimetype": "text/x-python",
   "name": "python",
   "nbconvert_exporter": "python",
   "pygments_lexer": "ipython2",
   "version": "2.7.6"
  }
 },
 "nbformat": 4,
 "nbformat_minor": 5
}
