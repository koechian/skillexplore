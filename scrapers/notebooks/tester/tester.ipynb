{
 "cells": [
  {
   "cell_type": "code",
   "execution_count": 3,
   "metadata": {},
   "outputs": [],
   "source": [
    "import os\n",
    "\n",
    "from bs4 import BeautifulSoup\n",
    "import json\n",
    "\n",
    "from selenium import webdriver\n",
    "from selenium.webdriver.chrome.options import Options\n",
    "from selenium.common.exceptions import NoSuchElementException\n",
    "from selenium.webdriver.support.ui import WebDriverWait\n",
    "from selenium.webdriver.support import expected_conditions as conditions\n",
    "from selenium.webdriver.common.by import By\n",
    "from selenium.common.exceptions import TimeoutException\n",
    "import re"
   ]
  },
  {
   "cell_type": "code",
   "execution_count": 4,
   "metadata": {},
   "outputs": [],
   "source": [
    "  # Selenium instance setup\n",
    "options = Options()\n",
    "options.add_argument(\n",
    "    \"--user-agent=Mozilla/5.0 (Windows NT 10.0; Win64; x64) AppleWebKit/537.36 (KHTML, like Gecko) \"\n",
    "            \"Chrome/109.0.0.0 Safari/537.36\"\n",
    "        )\n",
    "options.add_argument(\"--headless\")\n",
    "options.add_argument(\"--disable-blink-features=AutomationControlled\")\n",
    "driver = webdriver.Chrome(options=options)"
   ]
  },
  {
   "cell_type": "code",
   "execution_count": 7,
   "metadata": {},
   "outputs": [],
   "source": [
    "link = \"https://www.myjobmag.co.ke/job/interior-designer-eagle-hr-consultants\"\n",
    "\n",
    "xpath = {\n",
    "                        \"title\": '/html/body/section/div/div/div[1]/ul/li[3]/h2[1]/span',\n",
    "                        \"description\": \"//*[@id='printable']/div[2]\",\n",
    "                        \"location\": '//*[@id=\"printable\"]/ul/li[4]/span[2]/a',\n",
    "                        \"nature\": '//*[@id=\"printable\"]/ul/li[1]/span[2]/a',\n",
    "                        \"salary\": '//*[@id=\"tab1\"]/div/article/div[2]/div[2]/div[2]/span[1]/span',\n",
    "                        \"posted\": '//*[@id=\"posted-date\"]',\n",
    "                    }"
   ]
  },
  {
   "cell_type": "code",
   "execution_count": 12,
   "metadata": {},
   "outputs": [
    {
     "name": "stdout",
     "output_type": "stream",
     "text": [
      "Interior Designer Nairobi Full Time \n",
      "<p><strong>Job Ref: EHC/1765/2023</strong></p>\n",
      "<p>Our client in Interior design industry is seeking to recruit a focused, strategic and self-driven Interior Designer to join their dedicated team.</p>\n",
      "<p><strong>Duties and responsibilities</strong></p>\n",
      "<ul>\n",
      "<li>Determine the client’s objectives, goals and requirements for the project</li>\n",
      "<li>Consider how the space will be used and how people will move through the space</li>\n",
      "<li>Undertake design project from concept to completion</li>\n",
      "<li>Interpret and translate customer needs into rough plans</li>\n",
      "<li>Set costs and project fees according to budget</li>\n",
      "<li>Research and decide on materials and products sourcing</li>\n",
      "<li>Supervise work progress</li>\n",
      "<li>Work closely with designers, decorators, architects and constructors</li>\n",
      "<li>Research and follow industry changes, evolutions and best practices</li>\n",
      "<li>Constant improvement on the look, usage, and safety of interior spaces</li>\n",
      "</ul>\n",
      "<p><strong>Qualifications</strong></p>\n",
      "<ul>\n",
      "<li>Bachelors degree in Interior Design or similar</li>\n",
      "<li>Minimum 2 years’ experience as an Interior Designer</li>\n",
      "<li>Proficient in AutoCAD, ArchiCAD, Photoshop among other graphic and drawing software.</li>\n",
      "<li>Excellent portfolio of previous works</li>\n",
      "<li>Creative talent, imagination and eye for design</li>\n",
      "<li>Communication and presentation skills</li>\n",
      "<li>Project management skills</li>\n",
      "</ul>\n",
      "\n"
     ]
    }
   ],
   "source": [
    "driver.get(link)\n",
    "\n",
    "title = driver.find_element_by_xpath(xpath[\"title\"])\n",
    "location = driver.find_element_by_xpath(xpath[\"location\"])\n",
    "nature = driver.find_element_by_xpath(xpath[\"nature\"])\n",
    "description = driver.find_element_by_xpath(xpath[\"description\"]).get_attribute(\"innerHTML\")\n",
    "\n",
    "print(title.text,location.text,nature.text,description)"
   ]
  },
  {
   "cell_type": "code",
   "execution_count": null,
   "metadata": {},
   "outputs": [],
   "source": []
  }
 ],
 "metadata": {
  "kernelspec": {
   "display_name": "skillexplore",
   "language": "python",
   "name": "python3"
  },
  "language_info": {
   "codemirror_mode": {
    "name": "ipython",
    "version": 3
   },
   "file_extension": ".py",
   "mimetype": "text/x-python",
   "name": "python",
   "nbconvert_exporter": "python",
   "pygments_lexer": "ipython3",
   "version": "3.10.13"
  }
 },
 "nbformat": 4,
 "nbformat_minor": 2
}
