{
 "cells": [
  {
   "cell_type": "code",
   "execution_count": 5,
   "metadata": {
    "ExecuteTime": {
     "end_time": "2023-10-10T06:03:55.233062055Z",
     "start_time": "2023-10-10T06:03:55.183394778Z"
    }
   },
   "outputs": [],
   "source": [
    "from selenium import webdriver\n",
    "from selenium.webdriver.support.ui import WebDriverWait\n",
    "from selenium.webdriver.chrome.options import Options\n",
    "from selenium.common.exceptions import NoSuchElementException\n",
    "from selenium.webdriver.support import expected_conditions as conditions\n",
    "from selenium.webdriver.common.by import By\n",
    "import pickle as pk\n",
    "import csv"
   ]
  },
  {
   "cell_type": "code",
   "execution_count": 6,
   "outputs": [],
   "source": [
    "def url_builder(page):\n",
    "    url = f\"https://www.brightermonday.co.ke/jobs/software-data?page={page}\"\n",
    "    return url"
   ],
   "metadata": {
    "collapsed": false,
    "ExecuteTime": {
     "end_time": "2023-10-10T06:03:55.233507131Z",
     "start_time": "2023-10-10T06:03:55.229948635Z"
    }
   }
  },
  {
   "cell_type": "code",
   "execution_count": 7,
   "metadata": {
    "ExecuteTime": {
     "end_time": "2023-10-10T06:03:55.233779168Z",
     "start_time": "2023-10-10T06:03:55.230441725Z"
    }
   },
   "outputs": [],
   "source": [
    "def fetch_links(driver, url):\n",
    "    driver.get(url)\n",
    "    \n",
    "    # wait for the page to load\n",
    "    WebDriverWait(driver, 10)\n",
    "\n",
    "    links = []\n",
    "    x = 3  # Starting value of x\n",
    "\n",
    "    while x < 24:\n",
    "        try:\n",
    "            # Construct the XPath for the div with the current x value\n",
    "            xpath = f\"/html/body/main/section/div[2]/div[2]/div[1]/div[{x}]\"\n",
    "            WebDriverWait(driver, 1).until(\n",
    "                conditions.presence_of_element_located((By.XPATH, xpath))\n",
    "            )\n",
    "            element = driver.find_element_by_xpath(xpath)\n",
    "\n",
    "            try:\n",
    "                # Find and store the first link within the div, if it exists\n",
    "                link = element.find_element_by_tag_name(\"a\")\n",
    "                links.append(link.get_attribute(\"href\"))\n",
    "                \n",
    "                # Find and store the Job Title\n",
    "                #TODO\n",
    "            \n",
    "                # Find and store the company name\n",
    "                #TODO\n",
    "                \n",
    "            except NoSuchElementException:\n",
    "                pass\n",
    "\n",
    "            x += 1  # Increment x for the next iteration\n",
    "\n",
    "        except NoSuchElementException:\n",
    "            # When there are no more divs with the current x value, exit the loop\n",
    "            break\n",
    "\n",
    "    # Removing any duplicates and misleading links\n",
    "    links = [link for link in links if \"listings\" in link]\n",
    "    links = list(set(links))\n",
    "\n",
    "    return links"
   ]
  },
  {
   "cell_type": "code",
   "execution_count": 8,
   "outputs": [
    {
     "ename": "SyntaxError",
     "evalue": "invalid character '’' (U+2019) (1554875127.py, line 4)",
     "output_type": "error",
     "traceback": [
      "\u001B[0;36m  Cell \u001B[0;32mIn[8], line 4\u001B[0;36m\u001B[0m\n\u001B[0;31m    csv.writer(file, dialect=’excel’, **fmtparams)\u001B[0m\n\u001B[0m                             ^\u001B[0m\n\u001B[0;31mSyntaxError\u001B[0m\u001B[0;31m:\u001B[0m invalid character '’' (U+2019)\n"
     ]
    }
   ],
   "source": [
    "def store_links(links):\n",
    "    file = open('links/brightermonday_links','wb')\n",
    "    \n",
    "    csv.writer(file, dialect=’excel’, **fmtparams)\n",
    "\n",
    "    pk.dump(links,file)\n",
    "    file.close()"
   ],
   "metadata": {
    "collapsed": false,
    "ExecuteTime": {
     "end_time": "2023-10-10T06:03:55.234205298Z",
     "start_time": "2023-10-10T06:03:55.230834269Z"
    }
   }
  },
  {
   "cell_type": "code",
   "execution_count": null,
   "outputs": [],
   "source": [
    "def main():\n",
    "    options = Options()\n",
    "    options.add_argument(\"--headless\")\n",
    "    urls = [\"https://www.brightermonday.co.ke/jobs/software-data\"]\n",
    "    links = []\n",
    "\n",
    "    driver = webdriver.Chrome(options=options)\n",
    "\n",
    "    # Adding the paginated pages to the root url\n",
    "    # done up to page 5 to limit the results to recent information only\n",
    "    # starts from page 2 because page 1 is already accounted for in the initial list\n",
    "    for x in range(2, 11):\n",
    "        urls.append(url_builder(x))\n",
    "\n",
    "    for url in urls:\n",
    "        print(f\"Fetching job links from {url}\")\n",
    "        links.append(fetch_links(driver, url))\n",
    "        \n",
    "    # flattening the lists into one dimension\n",
    "    links = [link for sublist in links for link in sublist]\n",
    "    store_links(links)\n",
    "    \n",
    "    \n",
    "    print(f\"Done. {len(links)} links have been fetched and pickled🫙\")    \n",
    "    # Closes driver agent\n",
    "    driver.__exit__()\n",
    "\n",
    "\n",
    "if __name__ == \"__main__\":\n",
    "    main()"
   ],
   "metadata": {
    "collapsed": false,
    "ExecuteTime": {
     "start_time": "2023-10-10T06:03:55.231226447Z"
    }
   }
  }
 ],
 "metadata": {
  "kernelspec": {
   "display_name": "Python 3",
   "language": "python",
   "name": "python3"
  },
  "language_info": {
   "codemirror_mode": {
    "name": "ipython",
    "version": 3
   },
   "file_extension": ".py",
   "mimetype": "text/x-python",
   "name": "python",
   "nbconvert_exporter": "python",
   "pygments_lexer": "ipython3",
   "version": "3.10.12"
  },
  "orig_nbformat": 4
 },
 "nbformat": 4,
 "nbformat_minor": 2
}
