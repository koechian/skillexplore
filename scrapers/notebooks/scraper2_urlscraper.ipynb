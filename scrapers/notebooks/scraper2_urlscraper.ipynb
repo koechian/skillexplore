{
 "cells": [
  {
   "cell_type": "markdown",
   "source": [
    "#### This module loads pickled url files and unpacks them into one list item then visits the links and scrapes the data"
   ],
   "metadata": {
    "collapsed": false
   },
   "id": "a816b54d50d432c6"
  },
  {
   "cell_type": "code",
   "execution_count": 118,
   "id": "initial_id",
   "metadata": {
    "collapsed": true,
    "ExecuteTime": {
     "end_time": "2023-09-06T06:00:25.285337616Z",
     "start_time": "2023-09-06T06:00:25.215453023Z"
    }
   },
   "outputs": [],
   "source": [
    "import pickle as pk\n",
    "import os\n",
    "from bs4 import BeautifulSoup\n",
    "from tqdm import tqdm\n",
    "\n",
    "from selenium import webdriver\n",
    "from selenium.webdriver.chrome.options import Options\n",
    "from selenium.common.exceptions import NoSuchElementException\n",
    "from selenium.webdriver.support.ui import WebDriverWait\n",
    "from selenium.webdriver.support import expected_conditions as conditions\n",
    "from selenium.webdriver.common.by import By\n",
    "\n"
   ]
  },
  {
   "cell_type": "code",
   "execution_count": 119,
   "outputs": [],
   "source": [
    "def fetch_links():\n",
    "    files = os.listdir(\"links/\")\n",
    "    urls = []\n",
    "    for file in files:\n",
    "        _ = open((\"links/\" + file), \"rb\")\n",
    "        urls.append(pk.load(_))\n",
    "\n",
    "    urls = [url for sublist in urls for url in sublist]\n",
    "\n",
    "    return urls\n"
   ],
   "metadata": {
    "collapsed": false,
    "ExecuteTime": {
     "end_time": "2023-09-06T06:00:25.285634256Z",
     "start_time": "2023-09-06T06:00:25.259679674Z"
    }
   },
   "id": "e73080d0fe03439d"
  },
  {
   "cell_type": "markdown",
   "source": [
    "## Cleaning Function\n",
    "\n",
    "- This function takes in 'dirty' text and returns cleaned text devoid of formatting and markdown syntax. \n",
    "- This is not the final cleaning. Further preprocessing will be done when prepping the data for use by the NLP model. This just makes the data human-readable. \n",
    "- The steps taken are:\n",
    "    1. The data is parsed using a BS4 html parser to remove HTML tags.\n",
    "    2. Newlines are then replaced with spaces\n",
    "    3. The '/xa0' character for newline is also removed\n",
    "    4. '/u2019' character for apostrphe is replaced with an actual apostrophe\n",
    "    5. '/u2013' unicode for dash is replaced with - if found"
   ],
   "metadata": {
    "collapsed": false
   },
   "id": "c66a5a0a818a5192"
  },
  {
   "cell_type": "code",
   "execution_count": 120,
   "outputs": [],
   "source": [
    "def parser(dirty):\n",
    "    # removing HTML tags\n",
    "    raw = BeautifulSoup(dirty, \"html.parser\").get_text()\n",
    "\n",
    "    text = (\n",
    "        raw.replace(\"\\n\", \" \")\n",
    "        .replace(\"\\xa0\", \" \")\n",
    "        .replace(\"\\u2019\", \"'\")\n",
    "        .replace(\"\\u2013\", \"-\")\n",
    "        .replace(\"\\u2022\",\"\")\n",
    "        .replace(\"\\u201c\",\"\")\n",
    "        .replace(\"\\u201d\",'\"')\n",
    "        .replace(\"\\u2014\",\"—\")\n",
    "        .replace(\"\\uf0fc\",\"\")\n",
    "        .replace(\"\\u00b7\",\"\")\n",
    "        .replace('\\u2026',\"\")\n",
    "        .replace(\"\\u00e8\",\"\")\n",
    "        .replace(\"\\u00e9\",\"\")\n",
    "    )\n",
    "\n",
    "    # removing tab spaces and large spaces\n",
    "    cleaned = \" \".join(text.split())\n",
    "\n",
    "    return cleaned\n",
    "\n"
   ],
   "metadata": {
    "collapsed": false,
    "ExecuteTime": {
     "end_time": "2023-09-06T06:00:25.285728163Z",
     "start_time": "2023-09-06T06:00:25.259835448Z"
    }
   },
   "id": "41952852e6487266"
  },
  {
   "cell_type": "code",
   "execution_count": 121,
   "outputs": [],
   "source": [
    "def scraper(driver, urls):\n",
    "    jobs = {}\n",
    "    skipped = 0\n",
    "    \n",
    "    \n",
    "    for url in tqdm(urls[10:16], desc=\"Fetching\"):\n",
    "        try:\n",
    "            xpath = {\n",
    "                \"company\": '//h2[@class=\"pb-1 text-sm font-normal\"]',\n",
    "                \"title\": '//*[@id=\"tab1\"]/div/article/div[2]/div[2]/h1',\n",
    "                \"description\": \"//*[@id='tab1']/div/article/div[5]/div\",\n",
    "                \"location\": '//*[@id=\"tab1\"]/div/article/div[2]/div[2]/div[1]/*[1]',\n",
    "                \"nature\": '//*[@id=\"tab1\"]/div/article/div[2]/div[2]/div[1]/*[2]',\n",
    "                \"salary\": '//*[@id=\"tab1\"]/div/article/div[2]/div[2]/div[2]/span[1]/span',\n",
    "                \"posted\": '//*[@id=\"tab1\"]/div/article/div[3]/div[2]',\n",
    "            }\n",
    "            \n",
    "            try:\n",
    "                driver.get(url)\n",
    "                WebDriverWait(driver, 10).until(\n",
    "                    conditions.presence_of_element_located(\n",
    "                        (By.XPATH, xpath[\"description\"])\n",
    "                    ),\n",
    "                )\n",
    "    \n",
    "                #  get job details and clean innerHTML from posted and description\n",
    "                company = driver.find_element_by_xpath(xpath[\"company\"])\n",
    "                title = driver.find_element_by_xpath(xpath[\"title\"])\n",
    "                location = driver.find_element_by_xpath(xpath[\"location\"])\n",
    "                nature = driver.find_element_by_xpath(xpath[\"nature\"])\n",
    "                salary = driver.find_element_by_xpath(xpath[\"salary\"])\n",
    "                \n",
    "                # cleaning the output\n",
    "                posted = parser(\n",
    "                    driver.find_element_by_xpath(xpath[\"posted\"]).get_attribute(\"innerHTML\")\n",
    "                )\n",
    "                description = parser(\n",
    "                    driver.find_element_by_xpath(xpath[\"description\"]).get_attribute(\n",
    "                        \"innerHTML\"\n",
    "                    )\n",
    "                )\n",
    "                \n",
    "                # updating the jobs dict with key value pairs of {url:{job details}}\n",
    "                \n",
    "                jobs.update(\n",
    "                    {\n",
    "                        url:{\n",
    "                            \"company\": company.text,\n",
    "                            \"title\": title.text,\n",
    "                            \"location\": location.text,\n",
    "                            \"nature\": nature.text,\n",
    "                            \"salary\": (salary.text if len(salary.text) > 6 else \"Unspecified\"),\n",
    "                            \"description\": description,\n",
    "                            \"posted\": posted,\n",
    "                        }\n",
    "                    }\n",
    "                )\n",
    "          \n",
    "            except TimeoutError:\n",
    "                skipped +=1\n",
    "\n",
    "        except NoSuchElementException:\n",
    "            print(\"Hii stuff haiko buda\")\n",
    "\n",
    "\n",
    "    return jobs,skipped"
   ],
   "metadata": {
    "collapsed": false,
    "ExecuteTime": {
     "end_time": "2023-09-06T06:00:25.285789596Z",
     "start_time": "2023-09-06T06:00:25.259893965Z"
    }
   },
   "id": "a7379fc178d6dd13"
  },
  {
   "cell_type": "code",
   "execution_count": 122,
   "outputs": [
    {
     "name": "stderr",
     "output_type": "stream",
     "text": [
      "Fetching: 100%|██████████| 6/6 [00:18<00:00,  3.13s/it]"
     ]
    },
    {
     "name": "stdout",
     "output_type": "stream",
     "text": [
      "{'https://www.brightermonday.co.ke/listings/javamicroservice-developer-javakotlinmicronaut-remote-first-vwmmg5': {'company': 'CaperWhite GmbH', 'title': 'Java/Microservice Developer (Java/Kotlin/Micronaut, Remote First)', 'location': 'Remote (Work From Home)', 'nature': '', 'salary': 'Unspecified', 'description': \" No worries if you think you’re not a perfect fit — if your passion is software development and you're willing to learn, we’re willing to invest in you.  What You’ll Do  Find elegant solutions to hard technical problems, architecture design and driving our solution forwardDevelop JVM based microservices according to specifications and design conceptsWrite readable and well-documented codeInnovate using the latest JVM technologies, frameworks, and approachesManage your work by setting your own goals, prioritizing and executing them, and ultimately taking ownership of tasks and projects  What You Have  Demonstrated project experience and in-depth knowledge of Java, Kotlin or Groovy and their ecosystem of tools and frameworks, along with relevant JVM technologiesA bachelor's degree or at least 3 years of relevant demonstrable project experienceFamiliarity with frameworks like Micronaut, JPA/Hibernate, JDBC, GRPC, and optionally RxJavaHave hands-on experience working in backend developmentHave good communication skills and enjoy working with a passionate teamHave a well-rounded approach to problem solvingPride in writing readable and well-documented code Have a good command of English for communicating, documenting and writing guides and blog posts  What We Offer  A remote-first company that allows you to work how it best fits your requirementsWorking with a motivated team that enables you to do your bestRoom for personal and professional development through the encouragement of learning and experimentingA path to becoming a senior developer and team leadA family-friendly work environmentA generous vacation policy of five weeksVery competitive salary and benefits  Your Application Should Include  A write-up explaining who you are as a software engineer and why you are interested in and a fit for the positionWe are especially interested in knowing what projects you have loved (or not loved) working on, what motivates you, and what surprising or exciting things you’ve learned since you began your careerSome code (be it yours or somebody else’s) that really amazes you, and an explanation as to whyIf available, links to online profiles you use (e.g. GitHub, Twitter)If available, samples of documents you wrote (e.g. design documents, blog posts)A description of your work history (such as a resume, or a LinkedIn profile) \", 'posted': ' 1 week ago '}, 'https://www.brightermonday.co.ke/listings/senior-enterprise-engineer-eqg622': {'company': 'MSVL Group', 'title': 'Senior Enterprise Engineer', 'location': 'Outside Kenya', 'nature': 'Full Time', 'salary': 'Unspecified', 'description': '                                          Level:                                                   Senior Level Location:                                              Kampala, Uganda Industry:                                              IT & Office Automation Nationality:                                          Any Age Group:                                           30 + years    Qualification, Experience and Other Requirements  Bachelor’s degree in computer science / IT / Engineering or similar field At least 4 - 5 years work experience with Information Technology, including experience with troubleshooting and maintenance of environments running the disparate operating system and virutalisation. Vendor certification for hardware platforms VCP for Vmware Red Hat technical certification Willingness to travel Willing to work in 24x7 support Environment  Servers and Storage Implementation and Support Engineer (DellEMC, HPE, NetApp, Nutanix, Red Hat, Simplivity experience is a key benefit).  Should have hands - on experience in installation, maintanance and troubleshooting over Storage Systems, Bare – metal server systems such as HPE and DellEMC, Virtualized environments, Containerized environment    Roles & Responsibilities   Provide a professional, prompt and high level of technical support to all problems assigned Manage competing priorities in a complex environment. Devise creative technical solutions and offer pre-sales input internally as well to the customer. Servers and Storage Implementation and provide the required Engineering Support    Salary: Negotiable based on Qualification and Experience of the Candidate. Other benefits as per company’s policy.                                                                 Joining: Immediate      ', 'posted': ' 2 weeks ago '}, 'https://www.brightermonday.co.ke/listings/it-technical-manager-6k0gz4': {'company': 'MSVL Group', 'title': 'IT – Technical Manager', 'location': 'Outside Kenya', 'nature': 'Full Time', 'salary': 'Unspecified', 'description': '                               Location:                                              Kampala, Uganda Industry:                                              IT & Office Automation Nationality:                                          Any Age Group:                                           30 + years  Qualification, Experience and Other Requirements  Bachelor’s degree in computer science / IT / Engineering or similar field At least 7-8 years work experience with Information Technology, including experience with troubleshooting and maintenance of environments running disparate operating system and virutalisation. Should have prior Hands-on experience in installation, maintenance and troubleshooting at least 1 or 2 of the following different IT solutions.  o Networking o Security o Servers and storage o virtualisation  Cisco, Dell-EMC, HPE, Red Hat, Simplivity experience is an added benefit. Vendor certification for hardware platforms. Willingness to travel Willing to work in 24x7 support Environment    Roles & Responsibilities  Manage competing priorities in a complex environment Provide a professional, prompt and high level technical support to all problems assigned. Build, grow, lead, manage and retain a technical team to provide 1st class skill support and project implementation of IT projects. Create a Centre of Excellence for provision of Best-in-class skills in the region. Build a service pipeline Demonstrate leadership skills Sound IT technical knowledge to be able to provide guidance and solutions to the service delivery team    Salary: Negotiable based on Qualification and Experience of the Candidate. Other benefits as per company’s policy.                                                                 Joining: Immediate       ', 'posted': ' 2 weeks ago '}, 'https://www.brightermonday.co.ke/listings/mis-advanced-excel-specialist-jqmjq4': {'company': 'MSVL Group', 'title': 'MIS & ADVANCED EXCEL SPECIALIST', 'location': 'Nairobi', 'nature': 'Full Time', 'salary': 'Unspecified', 'description': ' Level: Junior Level Location: Nairobi Industry: Retail Nationality: Kenyan Age Group: 25 – 35 years  Qualification & Experience • Bachelor’s degree / Diploma in IT, Statistics, Mathematics, or similar field  • Minimum 3 -5 years of Hands – on Work Experience over Advanced Excel: Excel Formulas, Knowledge of Macros, Pivot Tables, Google Sheets etc. • Minimum 3 – 5 years of Hands on Work Experience over Management Information Systems (MIS)  Roles & Responsibilities • Design, Develop and Modify Data Infrastructure to accelerate the processes of data analysis and reporting. • Review Presentations, Manuscripts, graphs, and tables to ensure accuracy and quality. • Develop Standards of Operation when handling and archiving data. • Maintain Data Management plans and instructions to Operate the complex business systems. • Oversee the Integration of new technologies and initiatives into data standards and structures. • Evaluate the design, selection and implementation of database changes by comparing them with the business requirements and design documents accordingly.   Salary: Based on Qualification and Experience of the Candidate with an indicative range of Gross 25,000 to 35,000 per month.  Other benefits as per company’s policy.   Joining: Immediate  ', 'posted': ' Yesterday '}, 'https://www.brightermonday.co.ke/listings/business-software-consultant-intern-zdg7mq': {'company': 'Timecon Kenya Limited', 'title': 'Business Software Consultant Intern', 'location': 'Nairobi', 'nature': 'Internship & Graduate', 'salary': 'Unspecified', 'description': ' Business Software Consultant Intern  Timecon Kenya Limited is seeking to provide a 3 months’ unpaid internship opportunity for the position of Business Software Consultant Intern.  Key responsibilities for the role include: ·       Continually gain and maintain excellent knowledge on the various accounting softwares  ·       Implementing accounting software products at allocated client sites ·       Training clients on the efficient operation of the selected accounting software ·       Assisting clients via available remote applications ·       Communicating accurately with clients  ·       Properly documenting client issues ·       Maintaining a continuous flow of communication with consultants ·       Attending monthly reviews and team appraisal programs ·       Attending monthly technical training  Key Qualifications  ·       Completed a Bachelor’s Degree in a Business Course ·       Attained at least a CPA Section 2 qualification ·       Proficiency in Microsoft Office (mastery of Excel and Word) ·       Working knowledge of accounting and financial systems will be an added advantage  Key Competencies   Strong leadership and decision-making ability Excellent organization skills and ability to coordinate Analytical, self-driven and shows initiative Team player with excellent interpersonal and communication skills    NB: On successful completion of the internship program, the candidate may be considered for employment.   Interested candidates are requested to submit their application together with their Curriculum Vitae through our careers page on our website www.timecon.co.ke or directly send your Curriculum Vitae to careers@timecon.co.ke by 4th September 2023.  Only shortlisted candidates will be contacted. ', 'posted': ' 1 week ago '}, 'https://www.brightermonday.co.ke/listings/devops-engineer-kuberneteslinuxansible-remote-first-9j005x': {'company': 'CaperWhite GmbH', 'title': 'DevOps Engineer (Kubernetes/Linux/Ansible, Remote First)', 'location': 'Remote (Work From Home)', 'nature': 'Full Time', 'salary': '1000 - 1500', 'description': \" No worries if you think you’re not a perfect fit — if your passion is software development and you're willing to learn, we’re willing to invest in you.  What You’ll Do  Work as part of a team that operates a highly available and reliable Kubernetes based cloudDesign, build and deploy best-in-class solutions for high availability, security, monitoring, and backup/recoverySupport our agile development process by implementing a CD pipelineInnovate using the latest DevOps technologies, frameworks, and approachesManage your work by setting your own goals, prioritizing and executing them, and ultimately taking ownership of tasks and projects  What You Have  A bachelor's degree and at least three years of demonstratable project experienceIn-depth knowledge of Kubernetes and Linux and its ecosystem, as well as Linux, TCP/IP networking, and modern filesystems (BTRFS/ZFS)Hands-on experience with providing cloud solutionsFamiliarity with Kubernetes ingress controllers (e.g. Traefik), service meshes (e.g. Linkerd), monitoring (e.g. OpenTelemetry, Jaeger), and visualization (e.g. Grafana)Good communication skills and enjoy working with a passionate teamWell-rounded approach to problem solving, and understand the difference between when to apply a fix and when to refactor to remove a specific class of bugs.Good command of English for communicating, documenting and writing guides and blog postsHave good communication skills and enjoy working with a passionate teamHave a well-rounded approach to problem solvingHave a good command of English for communicating, documenting and writing guides and blog posts  What We Offer  A remote-first company that allows you to work how it best fits your requirementsWorking with a motivated team that enables you to do your bestRoom for personal and professional development through the encouragement of learning and experimentingA path to becoming senior engineer and team leadA family-friendly work environmentA generous vacation policy of five weeksVery competitive salary and benefits  Your Application Should Include  A write-up explaining who you are as a DevOps engineer and why you are interested in and a fit for the positionWe are especially interested in knowing what projects you have loved (or not loved) working on, what motivates you, and what surprising or exciting things you’ve learned since you began your careerSome code (be it yours or somebody else’s) that really amazes you, and an explanation as to whyIf available, links to online profiles you use (e.g. GitHub, Twitter)If available, samples of documents you wrote (e.g. design documents, blog posts)A description of your work history (such as a resume, or a LinkedIn profile) \", 'posted': ' 1 week ago '}}\n"
     ]
    },
    {
     "name": "stderr",
     "output_type": "stream",
     "text": [
      "\n"
     ]
    }
   ],
   "source": [
    "def main():\n",
    "    options = Options()\n",
    "    options.add_argument(\n",
    "        \"--user-agent=Mozilla/5.0 (Windows NT 10.0; Win64; x64) AppleWebKit/537.36 (KHTML, like Gecko) \"\n",
    "        \"Chrome/109.0.0.0 Safari/537.36\"\n",
    "    )\n",
    "    options.add_argument(\"--headless\")\n",
    "    options.add_argument(\"--disable-blink-features=AutomationControlled\")\n",
    "    driver = webdriver.Chrome(options=options)\n",
    "\n",
    "    # call the functions\n",
    "    urls = fetch_links()\n",
    "    jobs,skipped = scraper(driver, urls)\n",
    "    if skipped > 0:\n",
    "        print(f\"Completed {len(jobs)} jobs, {skipped} skipped due to timeout)\")\n",
    "        \n",
    "\n",
    "if __name__ == \"__main__\":\n",
    "    main()"
   ],
   "metadata": {
    "collapsed": false,
    "ExecuteTime": {
     "end_time": "2023-09-06T06:00:45.347061311Z",
     "start_time": "2023-09-06T06:00:25.259953097Z"
    }
   },
   "id": "194955509ba2dd51"
  }
 ],
 "metadata": {
  "kernelspec": {
   "display_name": "Python 3",
   "language": "python",
   "name": "python3"
  },
  "language_info": {
   "codemirror_mode": {
    "name": "ipython",
    "version": 2
   },
   "file_extension": ".py",
   "mimetype": "text/x-python",
   "name": "python",
   "nbconvert_exporter": "python",
   "pygments_lexer": "ipython2",
   "version": "2.7.6"
  }
 },
 "nbformat": 4,
 "nbformat_minor": 5
}
