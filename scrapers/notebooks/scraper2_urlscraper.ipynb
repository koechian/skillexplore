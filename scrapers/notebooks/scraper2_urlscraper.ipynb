{
 "cells": [
  {
   "cell_type": "markdown",
   "id": "a816b54d50d432c6",
   "metadata": {
    "collapsed": false
   },
   "source": [
    "#### This module loads pickled url files and unpacks them into one list item then visits the links and scrapes the data"
   ]
  },
  {
   "cell_type": "code",
   "execution_count": 3,
   "id": "initial_id",
   "metadata": {
    "ExecuteTime": {
     "end_time": "2023-09-06T06:00:25.285337616Z",
     "start_time": "2023-09-06T06:00:25.215453023Z"
    },
    "collapsed": true
   },
   "outputs": [],
   "source": [
    "import os\n",
    "import random\n",
    "\n",
    "from bs4 import BeautifulSoup\n",
    "import json\n",
    "\n",
    "from selenium import webdriver\n",
    "from selenium.webdriver.chrome.options import Options\n",
    "from selenium.common.exceptions import NoSuchElementException\n",
    "from selenium.webdriver.support.ui import WebDriverWait\n",
    "from selenium.webdriver.support import expected_conditions as conditions\n",
    "from selenium.webdriver.common.by import By\n",
    "from selenium.common.exceptions import TimeoutException\n",
    "import re\n",
    "\n",
    "import pickle as pk\n",
    "\n"
   ]
  },
  {
   "cell_type": "code",
   "execution_count": 8,
   "id": "e73080d0fe03439d",
   "metadata": {
    "ExecuteTime": {
     "end_time": "2023-09-06T06:00:25.285634256Z",
     "start_time": "2023-09-06T06:00:25.259679674Z"
    },
    "collapsed": false
   },
   "outputs": [],
   "source": [
    "def fetch_links():\n",
    "    files = os.listdir(\"../Outputs/links/\")\n",
    "    urls = []\n",
    "\n",
    "    # for file in files:\n",
    "    #     print(f\"Fetched {file}\")\n",
    "    #     _ = open((\"../Outputs/links/\" + file), \"rb\")\n",
    "    #     urls.append(pk.load(_))\n",
    "    \n",
    "    # Isolated testing\n",
    "    file = open('../Outputs/links/codingkenya.pk','rb') \n",
    "    urls.append(pk.load(file))\n",
    "\n",
    "    urls = [url for sublist in urls for url in sublist]\n",
    "\n",
    "    print(f\"{len(urls)} urls have been unpacked from {len(files)} found files\")\n",
    "    return urls\n"
   ]
  },
  {
   "cell_type": "markdown",
   "id": "c66a5a0a818a5192",
   "metadata": {
    "collapsed": false
   },
   "source": [
    "## Cleaning Function\n",
    "\n",
    "- This function takes in 'dirty' text and returns cleaned text devoid of formatting and markdown syntax. \n",
    "- This is not the final cleaning. Further preprocessing will be done when prepping the data for use by the NLP model. This just makes the data human-readable. \n",
    "- The steps taken are:\n",
    "    1. The data is parsed using a BS4 html parser to remove HTML tags.\n",
    "    2. Newlines are then replaced with spaces\n",
    "    3. The '/xa0' character for newline is also removed\n",
    "    4. '/u2019' character for apostrphe is replaced with an actual apostrophe\n",
    "    5. '/u2013' unicode for dash is replaced with - if found"
   ]
  },
  {
   "cell_type": "code",
   "execution_count": 5,
   "id": "41952852e6487266",
   "metadata": {
    "ExecuteTime": {
     "end_time": "2023-09-06T06:00:25.285728163Z",
     "start_time": "2023-09-06T06:00:25.259835448Z"
    },
    "collapsed": false
   },
   "outputs": [],
   "source": [
    "def parser(dirty):\n",
    "        # removing HTML tags\n",
    "        raw = BeautifulSoup(dirty, \"html.parser\").get_text()\n",
    "\n",
    "        text = (\n",
    "            raw.replace(\"\\n\", \" \")\n",
    "            .replace(\"\\xa0\", \" \")\n",
    "            .replace(\"\\u2019\", \"'\")\n",
    "            .replace(\"\\u2013\", \"-\")\n",
    "            .replace(\"\\u2022\", \"\")\n",
    "            .replace(\"\\u201c\", \"\")\n",
    "            .replace(\"\\u201d\", '\"')\n",
    "            .replace(\"\\u2014\", \"—\")\n",
    "        )\n",
    "\n",
    "        # removing tab spaces and large spaces\n",
    "        cleaned = \" \".join(text.split())\n",
    "\n",
    "        return cleaned\n",
    "\n"
   ]
  },
  {
   "cell_type": "code",
   "execution_count": 11,
   "id": "a7379fc178d6dd13",
   "metadata": {
    "ExecuteTime": {
     "end_time": "2023-09-06T06:00:25.285789596Z",
     "start_time": "2023-09-06T06:00:25.259893965Z"
    },
    "collapsed": false
   },
   "outputs": [],
   "source": [
    "def scraper(driver,urls):\n",
    "        jobs = {}\n",
    "        skipped = 0\n",
    "\n",
    "        # using regex to determine the site that is about to be scraped and to adjust the xpath to be used accordingly\n",
    "        brightermonday = re.compile(r\"brightermonday\", re.IGNORECASE)\n",
    "        codingkenya = re.compile(r\"codingkenya\", re.IGNORECASE)\n",
    "        myjobmag = re.compile(r\"myjobmag\", re.IGNORECASE)\n",
    "\n",
    "        for url in urls:\n",
    "            print(f\"Working on {url}\")\n",
    "            try:\n",
    "                if brightermonday.search(url):\n",
    "                    print(\"Brighter MOnday Link Identified\")\n",
    "                    xpath = {\n",
    "                        \"company\": '//h2[@class=\"pb-1 text-sm font-normal\"]',\n",
    "                        \"title\": '//*[@id=\"tab1\"]/div/article/div[2]/div[2]/h1',\n",
    "                        \"description\": \"//*[@id='tab1']/div/article/div[5]/div\",\n",
    "                        \"location\": '//*[@id=\"tab1\"]/div/article/div[2]/div[2]/div[1]/*[1]',\n",
    "                        \"nature\": '//*[@id=\"tab1\"]/div/article/div[2]/div[2]/div[1]/*[2]',\n",
    "                        \"salary\": '//*[@id=\"tab1\"]/div/article/div[2]/div[2]/div[2]/span[1]/span',\n",
    "                        \"posted\": '//*[@id=\"tab1\"]/div/article/div[3]/div[2]',\n",
    "                    }\n",
    "                elif codingkenya.search(url):\n",
    "                    print(\"Coding Kenya Link Identified\")\n",
    "                    xpath = {\n",
    "                        \"title\":\"/html/body/div/div/header[2]/div/div/div[1]/h1\",\n",
    "                        \"description\":\"/html/body/div/div/div/div/div/div[2]/main/div/div/div[1]/div[2]\",\n",
    "                        \"location\": \"/html/body/div/div/header[2]/div/div/div[1]/div/ul/li[2]/a\",\n",
    "                        \"nature\": \"/html/body/div/div/header[2]/div/div/div[1]/div/ul/li[1]\",\n",
    "                    }\n",
    "                elif myjobmag.search(url):\n",
    "                    print(\"MyJobMag Link Identified\")\n",
    "                    xpath = {\n",
    "                        \"title\": \"/html/body/section/div/div/div[1]/ul/li[3]/h2[1]/span\",\n",
    "                        \"description\": \"//*[@id='printable']/div[2]\",\n",
    "                        \"location\": '//*[@id=\"printable\"]/ul/li[4]/span[2]/a',\n",
    "                        \"nature\": '//*[@id=\"printable\"]/ul/li[1]/span[2]/a',\n",
    "                        \"salary\": '//*[@id=\"tab1\"]/div/article/div[2]/div[2]/div[2]/span[1]/span',\n",
    "                        \"posted\": '//*[@id=\"posted-date\"]',\n",
    "                    }\n",
    "\n",
    "                driver.get(url)\n",
    "                try:\n",
    "                    WebDriverWait(driver, 20).until(\n",
    "                        conditions.presence_of_element_located(\n",
    "                            (By.XPATH, xpath[\"description\"])\n",
    "                        ),\n",
    "                    )\n",
    "\n",
    "                    #  get job details and clean innerHTML from posted and description\n",
    "                    title = driver.find_element(By.XPATH, xpath[\"title\"])\n",
    "                    location =driver.find_element(By.XPATH, xpath[\"location\"])\n",
    "                    nature = driver.find_element(By.XPATH, xpath[\"nature\"])\n",
    "                    # salary = self.driver.find_element_by_xpath(xpath[\"salary\"])\n",
    "                    description = parser(\n",
    "                        dirty=driver.find_element(\n",
    "                            By.XPATH, xpath[\"description\"]\n",
    "                        ).get_attribute(\"innerHTML\")\n",
    "                    )\n",
    "\n",
    "                    print(title)\n",
    "\n",
    "                    # updating the jobs dict with key value pairs of {url:{job details}}\n",
    "\n",
    "                    jobs.update(\n",
    "                        {\n",
    "                            url: {\n",
    "                                \"title\": title.text,\n",
    "                                \"location\": location.text,\n",
    "                                \"nature\": nature.text,\n",
    "                                # \"salary\": (\n",
    "                                #     salary.text\n",
    "                                #     if len(salary.text) > 6\n",
    "                                #     else \"Unspecified\"\n",
    "                                # ),\n",
    "                                \"description\": description,\n",
    "                            }\n",
    "                        }\n",
    "                    )\n",
    "\n",
    "                except TimeoutException:\n",
    "                    skipped += 1\n",
    "\n",
    "            except NoSuchElementException:\n",
    "                print(\"Hii stuff haiko buda\")\n",
    "                return jobs, skipped\n",
    "            except TimeoutException:\n",
    "                return jobs, skipped\n",
    "\n",
    "        return jobs, skipped"
   ]
  },
  {
   "cell_type": "code",
   "execution_count": 12,
   "id": "194955509ba2dd51",
   "metadata": {
    "ExecuteTime": {
     "end_time": "2023-09-06T06:00:45.347061311Z",
     "start_time": "2023-09-06T06:00:25.259953097Z"
    },
    "collapsed": false
   },
   "outputs": [
    {
     "name": "stdout",
     "output_type": "stream",
     "text": [
      "1000 urls have been unpacked from 3 found files\n",
      "Working on https://codingkenya.com/job/full-stack-developer-7/\n",
      "Coding Kenya Link Identified\n",
      "About the jobWe are Quadcode, a company that develops a SaaS trading platform for clients around the world. We are currently looking for Full Stack Developer for an exciting new fintech venture.Sabio Trade is a trading firm dedicated to empowering talented traders to reach their full potential and attain financial success. Our commitment to fostering a dynamic trading environment is reflected in our company culture and values. Tasks in the roleSupporting the existing product functionality and developing new features in PHP, JS and Golang.RequirementsThe Full Stack Developer role has the following requirements:Experience in PHP development for at least 2 years (proficiency in one of the frameworks: Symfony/Laravel/Yii);Experience in Golang development is a plus;Proficiency in a popular JS framework such as React, Vue, or Angular;Knowledge of HTML/CSS; familiarity with SQL;Eagerness to evolve as a Fullstack developer;English language proficiency.We offerRemote work model;Competitive remuneration;Professional courses: from Coursera to Harvard;Friendly, enjoyable and positive environment.As a part of the Sabio Trade team, you'll become a vital player in our mission to empower traders and drive financial success. Join us today and be a part of a community that values talent, innovation, and dedication.Your journey to financial achievement starts here with Sabio Trade!Are you looking to sharpen your Software Development skills to stay relevant in the market? CLICK HERE to have a look at the top schools.For all your IT certification needs, please, click here for information on how to get started\n",
      "<selenium.webdriver.remote.webelement.WebElement (session=\"0e6e8491f9a26b6ae5e4fccebb45dd0f\", element=\"35F09A6D545210E6018C8093D768C92F_element_20\")>\n",
      "Working on https://codingkenya.com/job/junior-frontend-developer/\n",
      "Coding Kenya Link Identified\n",
      "Job DescriptionAre you a budding Junior Frontend Developer seeking an exceptional opportunity to gain hands-on experience while working with a prestigious Management Consulting firm? TalentKompass Deutschland, a leading Human Resources company based in Germany, is searching for a highly motivated Frontend Development Intern to join our esteemed client. This remote position offers a unique chance for someone passionate about web development and eager to learn in a dynamic and fast-paced environment.As the Junior Frontend Developer, you will work closely with the development and consulting teams, where you will be responsible for a range of tasks, including coding, debugging, and collaborating on innovative web solutions. You will have the extraordinary opportunity to learn from experienced professionals who will provide mentorship and guidance throughout the internship. With this internship, you will gain valuable experience in frontend development, web design, and teamwork - all essential skills for a successful career in this field. Responsibilities:Assist in the development, testing, and maintenance of web applications using HTML, CSS, and JavaScriptCollaborate with cross-functional teams to gather requirements and design user interfacesDebug and troubleshoot frontend issues, ensuring optimal performance and user experienceImplement responsive web design principles to ensure applications render well on various devices and screen sizesAdhere to coding best practices and maintain code qualityParticipate in code reviews and contribute to the improvement of development processesSupport the team with general administrative tasks as neededRequirements:Basic understanding of web development principles and practicesFamiliarity with HTML, CSS, and JavaScriptExcellent written and verbal communication skills in EnglishAbility to work independently and as part of a teamStrong organizational skills and the ability to manage multiple projects simultaneouslyKnowledge of modern web development tools and frameworks, such as React or Angular, is a plusExperience with version control systems, such as Git, is a plusAt TalentKompass Deutschland, we are committed to helping our interns develop their skills and reach their full potential. Our client is a reputable Management Consulting firm that will provide invaluable experience in a competitive industry. Don't miss this fantastic opportunity to jump-start your career in frontend development - apply now!Are you looking to sharpen your Software Development skills to stay relevant in the market? CLICK HERE to have a look at the top schools.For all your IT certification needs, please, click here for information on how to get started\n",
      "<selenium.webdriver.remote.webelement.WebElement (session=\"0e6e8491f9a26b6ae5e4fccebb45dd0f\", element=\"7BD29A722807EE4F22BFE12AC333B853_element_33\")>\n",
      "Working on https://codingkenya.com/job/scrum-master-5/\n",
      "Coding Kenya Link Identified\n",
      "KEY RESPONSIBILITIES:The Scrum Master role has the following responsibilities:Sprint planning, scheduling, forecasting and reporting (including burndown and risk escalation)Ability to coach the team on Agile values and principles understanding their role within the team but working collaboratively with shared goals at the heart of all work.Support the team so that a safe-to-fail environment is created and collectively you are all responsible for outcomes.Identify blockers and work with the Digital Manager to remove them and optimize team performance.Continuous improvement and reflective learning are built into the DNA of the team through your leadership and via ceremonies like retrospectives.Ability to collect, analyze and present data to communicate activity and progress externally, and encourage the maturity and abilities of the team internally.Coach the team on the purpose and importance of Agile ceremonies along with the outcomes to be completed by the team.Challenge the team so that they are always striving for improvement.Coach the team to build a shared understanding of success factors and the Definition of DoneAbility to be pragmatic in your approach and challenge in an appropriate way to drive outcomes.Identify and coach others to be future scrum masters across the organization.POSITION REQUIREMENTSThe Scrum Master role has the following requirements:Experience in leading projects in a SCRUM environmentUnderstanding of agile behaviours, principles, tools and techniques: e.g. collaboration, team information management, continuous integration and deployment, agile delivery frameworks such as Scrum and KanbanA minimum of 3-5 years of work experience as a Scrum MasterContinual investment in developing your skills through community events and supporting other Scrum MastersTertiary qualifications in IT and or BusinessCertified in relevant Agile courses.COMPETENCIESExcellent skills in leading a team including coaching and providing feedback.High level of flexibility with the ability to influence and adapt to change.Strong interpersonal, communication and relationship skillsStrong facilitation skills to support agile ceremonies.Strong problem-solving skills.Business value mindsetStrong written, verbal, and presentation skills; strong interpersonal skillsContinuous improvement and innovation mindset that results in creativity, acting with agility and thinking outside current boundaries.Strong ability to partner across multiple disciplines and navigate a matrix organization.KnowledgeKnowledge of Agile values, principles and practicesKnowledge of various Agile frameworksKnowledge of upcoming Scrum enhancements within the Agile environmentKnowledge of services in the client's industryAre you looking to sharpen your Software Development skills to stay relevant in the market? CLICK HERE to have a look at the top schools.For all your IT certification needs, please, click here for information on how to get started\n",
      "<selenium.webdriver.remote.webelement.WebElement (session=\"0e6e8491f9a26b6ae5e4fccebb45dd0f\", element=\"20755841181F1DAB3674662424F72578_element_44\")>\n",
      "Working on https://codingkenya.com/job/front-end-developer-3/\n",
      "Coding Kenya Link Identified\n",
      "Working on https://codingkenya.com/job/network-engineer-3/\n",
      "Coding Kenya Link Identified\n",
      "Job DescriptionWe are seeking to recruit an experienced Network Engineer who is excellent with all things Network in IT. If you are good at problem-solving, prioritizing, and multi-tasking with a keen eye for detail and the dedication to supporting our company's IT infrastructure, then this is a job for you.Reporting to the Head - Network & Infrastructure Support, the Network Engineer is responsible for the development, implementation, maintenance and administration of the corporate data Network. Develops, coordinates, and maintains the network and disaster recovery to ensure uptime and business continuity. Documents all the ICT infrastructure and manages the entire inventory. They will analyze network security needs and assist in developing standards, guidelines, and statements of direction for the corporate ICT system architectures and the Network security administrators.The RoleSpecifically, the Network Engineer will be required to:Manage performance of ICT Infrastructure and applications to ensure that the systems work as designed and perform consistently and reliably to meet Business SLAs.Monitor ICT Infrastructure performance including SNMP, logs, events and maintenance of general systems health to provide proactive remedial support.Develop and maintain device access, control policies, data transmission policies, storage policies, Business continuity policies, backup policies, security policies, monitoring profiles, technologies and notification rules that match compliance best practice expectations. Plan and implement timely product upgrades, firewall signature updates and patch releases for all ICT assetsResearch and evaluate external technical trends & developments and evolving industry standards concerning technologies affecting networks, security, client/server and other platforms and their application to business systems. Research local and international technology trends in business to improve system performance, security and functionality.Define and document the various architecture components, including hardware platform, operating system, execution, development, operation, distribution and technologies related to networking systems.Install, support and maintain hardware and software infrastructure, attend to system failures and resolve/coordinate resolution of issues.Establish and maintain business relationships with vendors, consultants and other outside entities providing services to the bank. Negotiate contracts and appropriately monitor the performance of their services.Be the custodian of all remote authentication passwords for all connections to the corporate Network Infrastructure and ensure minimal external threat to information resources.Manage internal staff and external vendors to ensure that services are delivered promptly to obtain zero interruption to business operations.Desired Skills and ExperienceA Bachelor's degree in Engineering, Computer Science, or an IT-related field from a recognized university with possession of a Cisco Certified Network Professional (CCNP) is a must.Wide Networking and project management experience with a minimum of 3 years experience in planning, systems analysis, design, support and development of LAN/WAN infrastructure.Demonstrated experience integrating systems in multi-user, multi-platform, multitasking operating systems environments such as UNIX, Windows 2003/2008Excellent understanding and working knowledge with TCP/IP, IP Telephony and Firewall appliancesA specialist in IT/ Engineering background with competencies in Networking, Engineering, Power systems and good project management/consulting skills.Excellent leadership skills with demonstrated ability to lead or facilitate mission-critical projects and to develop, participate in and lead multi-disciplinary work teams.Extensive experience in systems planning, design, development, maintenance and troubleshooting with a track record of accomplishment in large, complex WANs, LANs and client/server-based systems.Demonstrated understanding of modern information security threats and competency in developing effective solutions.Demonstrated experience working with multivendor infrastructures such as Cisco, IBM and Sun/ OracleExtensive knowledge of Service Provider infrastructure and demonstrated experience working with SP equipment and protocolsDemonstrated competency in project management in a cross-functional environment and experience in managing resources to meet goals on multiple projects.Are you looking to sharpen your Software Development skills to stay relevant in the market? CLICK HERE to have a look at the top schools.For all your IT certification needs, please, click here for information on how to get started\n",
      "<selenium.webdriver.remote.webelement.WebElement (session=\"0e6e8491f9a26b6ae5e4fccebb45dd0f\", element=\"BE7FFB66916445C1D94AA2C0A4F6E100_element_59\")>\n",
      "Working on https://codingkenya.com/job/data-quality-analyst/\n",
      "Coding Kenya Link Identified\n",
      "Job DescriptionWe have an exciting opportunity for a Data Quality Analyst to join our ICT team. Reporting to the Head of Strategy and Governance, The Data Quality Analyst holds the responsibility of establishing and implementing effective procedures and strategies for the creation, maintenance, and management of robust data quality processes and guidelines. This involves investigating, analyzing, and resolving data quality issues while ensuring compliance with enterprise procedures. The analyst also develops a program to enforce quality control measures, oversees the data quality management system, and coordinates internal and external audits to uphold global standards. Playing a vital role in integrating internal processes within the bank, the analyst adopts a process-oriented approach to project execution, contributing significantly to the bank's ability to identify, measure, control, and enhance core business processes. Ultimately, the goal is to drive improved business performance through the continual improvement of data quality.The Role Specifically, the successful jobholder will be required to:Drive the strategic direction through objective, systematic analyses to derive accurate conclusions based on evidence, contributing to informed decision-making.Identify and proactively address data quality issues using lateral thinking, implementing improved work practices, and resolving problems to enhance overall data integrity.Ensure successful project outcomes by overseeing the data quality initiative from initiation to completion, monitoring progress, managing priorities, committing to achieving high-quality data results, adhering to documentation procedures, and seeking stakeholder feedback for continuous improvement.Integrate the bank's data quality management policies into the planning, building, and running domains of enterprise IT. Fulfil a monitoring role to assess adherence to established policies, ensuring data quality throughout the organization.Propose corrective action plans and enhancements to address non-compliance with standards identified through monitoring and auditing of processes, contributing to ongoing improvements in data quality management.Develop and implement comprehensive data quality metrics and key performance indicators (KPIs) to measure the effectiveness of data quality initiatives. Regularly analyze and report on these metrics to relevant stakeholders, highlighting areas for improvement and celebrating successes.Collaborate with cross-functional teams to establish and maintain data quality standards, guidelines, and best practices. Provide training and support to ensure these standards are consistently applied across the organization.Conduct thorough data profiling and analysis to identify patterns, trends, and anomalies, offering valuable insights that inform data quality enhancement strategies. Utilize statistical methods and data visualization techniques to present findings meaningfully and actionably.Lead and participate in data quality improvement projects, working closely with IT teams, data stewards, and other relevant stakeholders. Coordinate efforts to implement data quality tools, technologies, and automated solutions to streamline processes.Stay abreast of industry trends, emerging technologies, and advancements in data quality management. Apply this knowledge to continually enhance the organization's data quality practices, ensuring they align with current best practices.Actively engage in the resolution of complex data quality issues by conducting root cause analyses, collaborating with subject matter experts, and implementing effective, sustainable solutions.Establish and maintain a robust data quality governance framework, including the development of policies, procedures, and controls. Regularly review and update these governance documents to adapt to changing business needs and regulatory requirements.Champion a data-driven culture within the organization by promoting the importance of data quality, providing education on its impact, and fostering a collective responsibility for maintaining high-quality data.Collaborate with external vendors, partners, and regulatory bodies to ensure alignment with industry standards and compliance requirements related to data quality and integrity.Participate in the development and execution of data quality awareness campaigns to educate internal stakeholders on the value of data quality and their role in maintaining it.Cultivate positive working relationships with team members, stakeholders, and clients, demonstrating adaptability to changes in client and stakeholder needs. Responsively address evolving expectations to foster a collaborative and productive work environment.Demonstrate personal drive and integrity by taking ownership of objectives, proactively advancing work, showing initiative, and dedicating energy to ensuring the realization of goals.Communicate with influence by confidently presenting information, concisely, and articulately. Focus on key points, utilize unambiguous language, choose appropriate communication mediums, and structure written and oral communication for optimal clarity.Skills, Competencies, and ExperienceThe successful candidate will be required to have the following skills and competencies:A Bachelor's degree in information technology or information management. Possession of an MBA will be an added advantage.Must have obtained quality-oriented certification such as Certified Six Sigma Certification, Certified Manager of Quality, Certified Quality Auditor, Certified Quality Engineer, or Certified ISO 9000 professional (Foundation, Auditor, Implementer, Master). Any database administration certification will be an added advantage.At least five (5) years of quality analysis experience and/or relevant vendor certification.Demonstrated ability to manage complexity and multiple initiatives coupled with the ability to synthesize and analyze diverse data and information, and develop and recommend strategies.Ability to think creatively with a strategic perspective, highly driven and self-motivatedAnalytical with good project management and team leadership skills.Knowledge in the use of notable data management tools.Are you looking to sharpen your Software Development skills to stay relevant in the market? CLICK HERE to have a look at the top schools.For all your IT certification needs, please, click here for information on how to get started\n",
      "<selenium.webdriver.remote.webelement.WebElement (session=\"0e6e8491f9a26b6ae5e4fccebb45dd0f\", element=\"1F425077EE144D6A82A4B48185C3121B_element_70\")>\n",
      "Working on https://codingkenya.com/job/systems-networks-administrator/\n",
      "Coding Kenya Link Identified\n",
      "Job DescriptionThe Systems & Networks Administrator will be responsible for planning effective end-user experience by providing prompt support and training to end users. Configuration, maintenance, and reliable operation of computer systems, networks, servers, and virtualization. QualificationsThe Systems & Networks Administrator role has the following requirements:Bachelor's Degree in Computer Science, Information Communication Technology, Electronics Engineering or any other ICT-related disciplines.Professional Certification in Cisco, MCSE, CCNA certification or N+ ICT security certification or experience will be an added advantage. Minimum of three (3) years experience in Information Technology with hands-on experience in LAN, WAN and Wireless networks. Working knowledge/experience with IP telephony systems (VoIP) will be an added advantageAre you looking to sharpen your Software Development skills to stay relevant in the market? CLICK HERE to have a look at the top schools.For all your IT certification needs, please, click here for information on how to get started\n",
      "<selenium.webdriver.remote.webelement.WebElement (session=\"0e6e8491f9a26b6ae5e4fccebb45dd0f\", element=\"7E4BFEAA94B8DA820B5A041920D5F385_element_82\")>\n",
      "Working on https://codingkenya.com/job/database-administrator-software-developer/\n",
      "Coding Kenya Link Identified\n",
      "Job DescriptionThe Database Administrator & Software Developer will provide technical support in maintaining the integrity, effectiveness and performance of Hospital Management Information systems, and ICT databases while ensuring that data is stored securely and optimally. The Database Administrator & Software Developer shall provide technical leadership and oversee the design, development, testing, training, and maintenance of the applications architecture of the associated systems and infrastructure. QualificationsDegree in Computer Science or its equivalent Certification in database administration; Oracle DBA, MCDBA, SQL, MySQL or equivalent. Minimum of five (5) years relevant experience in application development and database administration in software development, implementation, and customization. Knowledge of Intersoft Hospital Information Management System will be an added Advantage. Front-end development experience of functional IT languages that include but are not limited to HTML5, Css3, Jade, Less, Node, Maven, JavaScript, PHP, Magento, JSON, Angular JS, TypeScript, Java, JavaFX, Spring, Hibernate, SQL and JAX-RS. Develop applications written in PHP, JavaScript, Angular JS or Java. Strong technical skills including an understanding of software development principles.Are you looking to sharpen your Software Development skills to stay relevant in the market? CLICK HERE to have a look at the top schools.For all your IT certification needs, please, click here for information on how to get started\n",
      "<selenium.webdriver.remote.webelement.WebElement (session=\"0e6e8491f9a26b6ae5e4fccebb45dd0f\", element=\"145E49C715A2AD2743FDE1673897DADF_element_94\")>\n",
      "Working on https://codingkenya.com/?post_type=job_listing&p=3980\n",
      "Coding Kenya Link Identified\n"
     ]
    },
    {
     "ename": "KeyboardInterrupt",
     "evalue": "",
     "output_type": "error",
     "traceback": [
      "\u001b[0;31m---------------------------------------------------------------------------\u001b[0m",
      "\u001b[0;31mKeyboardInterrupt\u001b[0m                         Traceback (most recent call last)",
      "Cell \u001b[0;32mIn[12], line 19\u001b[0m\n\u001b[1;32m     15\u001b[0m         \u001b[38;5;28mprint\u001b[39m(\u001b[38;5;124mf\u001b[39m\u001b[38;5;124m\"\u001b[39m\u001b[38;5;124mCompleted \u001b[39m\u001b[38;5;132;01m{\u001b[39;00m\u001b[38;5;28mlen\u001b[39m(jobs)\u001b[38;5;132;01m}\u001b[39;00m\u001b[38;5;124m jobs, \u001b[39m\u001b[38;5;132;01m{\u001b[39;00mskipped\u001b[38;5;132;01m}\u001b[39;00m\u001b[38;5;124m skipped due to timeout)\u001b[39m\u001b[38;5;124m\"\u001b[39m)\n\u001b[1;32m     18\u001b[0m \u001b[38;5;28;01mif\u001b[39;00m \u001b[38;5;18m__name__\u001b[39m \u001b[38;5;241m==\u001b[39m \u001b[38;5;124m\"\u001b[39m\u001b[38;5;124m__main__\u001b[39m\u001b[38;5;124m\"\u001b[39m:\n\u001b[0;32m---> 19\u001b[0m     \u001b[43mmain\u001b[49m\u001b[43m(\u001b[49m\u001b[43m)\u001b[49m\n",
      "Cell \u001b[0;32mIn[12], line 13\u001b[0m, in \u001b[0;36mmain\u001b[0;34m()\u001b[0m\n\u001b[1;32m     11\u001b[0m \u001b[38;5;66;03m# call the functions\u001b[39;00m\n\u001b[1;32m     12\u001b[0m urls \u001b[38;5;241m=\u001b[39m fetch_links()\n\u001b[0;32m---> 13\u001b[0m jobs,skipped \u001b[38;5;241m=\u001b[39m \u001b[43mscraper\u001b[49m\u001b[43m(\u001b[49m\u001b[43mdriver\u001b[49m\u001b[43m,\u001b[49m\u001b[43m \u001b[49m\u001b[43murls\u001b[49m\u001b[43m)\u001b[49m\n\u001b[1;32m     14\u001b[0m \u001b[38;5;28;01mif\u001b[39;00m skipped \u001b[38;5;241m>\u001b[39m \u001b[38;5;241m0\u001b[39m:\n\u001b[1;32m     15\u001b[0m     \u001b[38;5;28mprint\u001b[39m(\u001b[38;5;124mf\u001b[39m\u001b[38;5;124m\"\u001b[39m\u001b[38;5;124mCompleted \u001b[39m\u001b[38;5;132;01m{\u001b[39;00m\u001b[38;5;28mlen\u001b[39m(jobs)\u001b[38;5;132;01m}\u001b[39;00m\u001b[38;5;124m jobs, \u001b[39m\u001b[38;5;132;01m{\u001b[39;00mskipped\u001b[38;5;132;01m}\u001b[39;00m\u001b[38;5;124m skipped due to timeout)\u001b[39m\u001b[38;5;124m\"\u001b[39m)\n",
      "Cell \u001b[0;32mIn[11], line 45\u001b[0m, in \u001b[0;36mscraper\u001b[0;34m(driver, urls)\u001b[0m\n\u001b[1;32m     43\u001b[0m driver\u001b[38;5;241m.\u001b[39mget(url)\n\u001b[1;32m     44\u001b[0m \u001b[38;5;28;01mtry\u001b[39;00m:\n\u001b[0;32m---> 45\u001b[0m     \u001b[43mWebDriverWait\u001b[49m\u001b[43m(\u001b[49m\u001b[43mdriver\u001b[49m\u001b[43m,\u001b[49m\u001b[43m \u001b[49m\u001b[38;5;241;43m20\u001b[39;49m\u001b[43m)\u001b[49m\u001b[38;5;241;43m.\u001b[39;49m\u001b[43muntil\u001b[49m\u001b[43m(\u001b[49m\n\u001b[1;32m     46\u001b[0m \u001b[43m        \u001b[49m\u001b[43mconditions\u001b[49m\u001b[38;5;241;43m.\u001b[39;49m\u001b[43mpresence_of_element_located\u001b[49m\u001b[43m(\u001b[49m\n\u001b[1;32m     47\u001b[0m \u001b[43m            \u001b[49m\u001b[43m(\u001b[49m\u001b[43mBy\u001b[49m\u001b[38;5;241;43m.\u001b[39;49m\u001b[43mXPATH\u001b[49m\u001b[43m,\u001b[49m\u001b[43m \u001b[49m\u001b[43mxpath\u001b[49m\u001b[43m[\u001b[49m\u001b[38;5;124;43m\"\u001b[39;49m\u001b[38;5;124;43mdescription\u001b[39;49m\u001b[38;5;124;43m\"\u001b[39;49m\u001b[43m]\u001b[49m\u001b[43m)\u001b[49m\n\u001b[1;32m     48\u001b[0m \u001b[43m        \u001b[49m\u001b[43m)\u001b[49m\u001b[43m,\u001b[49m\n\u001b[1;32m     49\u001b[0m \u001b[43m    \u001b[49m\u001b[43m)\u001b[49m\n\u001b[1;32m     51\u001b[0m     \u001b[38;5;66;03m#  get job details and clean innerHTML from posted and description\u001b[39;00m\n\u001b[1;32m     52\u001b[0m     title \u001b[38;5;241m=\u001b[39m driver\u001b[38;5;241m.\u001b[39mfind_element(By\u001b[38;5;241m.\u001b[39mXPATH, xpath[\u001b[38;5;124m\"\u001b[39m\u001b[38;5;124mtitle\u001b[39m\u001b[38;5;124m\"\u001b[39m])\n",
      "File \u001b[0;32m~/anaconda3/envs/skillexplore-scrapers/lib/python3.10/site-packages/selenium/webdriver/support/wait.py:92\u001b[0m, in \u001b[0;36mWebDriverWait.until\u001b[0;34m(self, method, message)\u001b[0m\n\u001b[1;32m     90\u001b[0m     screen \u001b[38;5;241m=\u001b[39m \u001b[38;5;28mgetattr\u001b[39m(exc, \u001b[38;5;124m\"\u001b[39m\u001b[38;5;124mscreen\u001b[39m\u001b[38;5;124m\"\u001b[39m, \u001b[38;5;28;01mNone\u001b[39;00m)\n\u001b[1;32m     91\u001b[0m     stacktrace \u001b[38;5;241m=\u001b[39m \u001b[38;5;28mgetattr\u001b[39m(exc, \u001b[38;5;124m\"\u001b[39m\u001b[38;5;124mstacktrace\u001b[39m\u001b[38;5;124m\"\u001b[39m, \u001b[38;5;28;01mNone\u001b[39;00m)\n\u001b[0;32m---> 92\u001b[0m \u001b[43mtime\u001b[49m\u001b[38;5;241;43m.\u001b[39;49m\u001b[43msleep\u001b[49m\u001b[43m(\u001b[49m\u001b[38;5;28;43mself\u001b[39;49m\u001b[38;5;241;43m.\u001b[39;49m\u001b[43m_poll\u001b[49m\u001b[43m)\u001b[49m\n\u001b[1;32m     93\u001b[0m \u001b[38;5;28;01mif\u001b[39;00m time\u001b[38;5;241m.\u001b[39mmonotonic() \u001b[38;5;241m>\u001b[39m end_time:\n\u001b[1;32m     94\u001b[0m     \u001b[38;5;28;01mbreak\u001b[39;00m\n",
      "\u001b[0;31mKeyboardInterrupt\u001b[0m: "
     ]
    }
   ],
   "source": [
    "def main():\n",
    "    options = Options()\n",
    "    options.add_argument(\n",
    "        \"--user-agent=Mozilla/5.0 (Windows NT 10.0; Win64; x64) AppleWebKit/537.36 (KHTML, like Gecko) \"\n",
    "        \"Chrome/109.0.0.0 Safari/537.36\"\n",
    "    )\n",
    "    options.add_argument(\"--headless\")\n",
    "    options.add_argument(\"--disable-blink-features=AutomationControlled\")\n",
    "    driver = webdriver.Chrome(options=options)\n",
    "\n",
    "    # call the functions\n",
    "    urls = fetch_links()\n",
    "    jobs,skipped = scraper(driver, urls)\n",
    "    if skipped > 0:\n",
    "        print(f\"Completed {len(jobs)} jobs, {skipped} skipped due to timeout)\")\n",
    "        \n",
    "\n",
    "if __name__ == \"__main__\":\n",
    "    main()"
   ]
  }
 ],
 "metadata": {
  "kernelspec": {
   "display_name": "Python 3",
   "language": "python",
   "name": "python3"
  },
  "language_info": {
   "codemirror_mode": {
    "name": "ipython",
    "version": 3
   },
   "file_extension": ".py",
   "mimetype": "text/x-python",
   "name": "python",
   "nbconvert_exporter": "python",
   "pygments_lexer": "ipython3",
   "version": "3.10.13"
  }
 },
 "nbformat": 4,
 "nbformat_minor": 5
}
