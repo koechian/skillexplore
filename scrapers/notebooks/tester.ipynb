{
 "cells": [
  {
   "cell_type": "code",
   "execution_count": 15,
   "id": "initial_id",
   "metadata": {
    "collapsed": true,
    "ExecuteTime": {
     "end_time": "2023-10-19T03:55:15.260807959Z",
     "start_time": "2023-10-19T03:55:15.211913974Z"
    }
   },
   "outputs": [],
   "source": [
    "from multiprocessing import cpu_count, Process\n",
    "import os\n",
    "import pickle as pk"
   ]
  },
  {
   "cell_type": "code",
   "execution_count": 16,
   "outputs": [
    {
     "name": "stdout",
     "output_type": "stream",
     "text": [
      "8\n"
     ]
    }
   ],
   "source": [
    "print(cpu_count())"
   ],
   "metadata": {
    "collapsed": false,
    "ExecuteTime": {
     "end_time": "2023-10-19T03:55:15.261498499Z",
     "start_time": "2023-10-19T03:55:15.260582141Z"
    }
   },
   "id": "94896407dcb3108b"
  },
  {
   "cell_type": "code",
   "execution_count": 17,
   "outputs": [
    {
     "name": "stdout",
     "output_type": "stream",
     "text": [
      "3\n"
     ]
    }
   ],
   "source": [
    "myList = [1,2,3,4,5,6,7,8,9,10,11,12]\n",
    "size = round(len(myList)/3)\n",
    "\n",
    "final = [myList[i * size: (i + 1) * size] for i in range((len(myList) + size - 1) // size)]\n",
    "\n",
    "print(len(final))"
   ],
   "metadata": {
    "collapsed": false,
    "ExecuteTime": {
     "end_time": "2023-10-19T03:55:15.262102259Z",
     "start_time": "2023-10-19T03:55:15.261029215Z"
    }
   },
   "id": "336aabe5bfb9616e"
  },
  {
   "cell_type": "code",
   "execution_count": 18,
   "outputs": [],
   "source": [
    "def store_links(links):\n",
    "    filename = \"../links/tester\"\n",
    "    \n",
    "    file = open(filename, \"wb\")\n",
    "    pk.dump(links, file)\n",
    "    file.close()"
   ],
   "metadata": {
    "collapsed": false,
    "ExecuteTime": {
     "end_time": "2023-10-19T03:55:15.262339467Z",
     "start_time": "2023-10-19T03:55:15.261243413Z"
    }
   },
   "id": "32c7935020b1711e"
  },
  {
   "cell_type": "code",
   "execution_count": 19,
   "outputs": [
    {
     "name": "stdout",
     "output_type": "stream",
     "text": [
      "/home/koechian/Code/skillexplore/scrapers/notebooks\n"
     ]
    }
   ],
   "source": [],
   "metadata": {
    "collapsed": false,
    "ExecuteTime": {
     "end_time": "2023-10-19T03:55:15.262739632Z",
     "start_time": "2023-10-19T03:55:15.261376694Z"
    }
   },
   "id": "849ead3de235a9ae"
  }
 ],
 "metadata": {
  "kernelspec": {
   "display_name": "Python 3",
   "language": "python",
   "name": "python3"
  },
  "language_info": {
   "codemirror_mode": {
    "name": "ipython",
    "version": 2
   },
   "file_extension": ".py",
   "mimetype": "text/x-python",
   "name": "python",
   "nbconvert_exporter": "python",
   "pygments_lexer": "ipython2",
   "version": "2.7.6"
  }
 },
 "nbformat": 4,
 "nbformat_minor": 5
}
