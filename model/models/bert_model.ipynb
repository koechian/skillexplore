{
 "cells": [
  {
   "cell_type": "code",
   "execution_count": 1,
   "id": "initial_id",
   "metadata": {
    "collapsed": true
   },
   "outputs": [
    {
     "name": "stderr",
     "output_type": "stream",
     "text": [
      "2023-11-15 18:47:40.591442: I tensorflow/core/platform/cpu_feature_guard.cc:182] This TensorFlow binary is optimized to use available CPU instructions in performance-critical operations.\n",
      "To enable the following instructions: AVX2 FMA, in other operations, rebuild TensorFlow with the appropriate compiler flags.\n"
     ]
    }
   ],
   "source": [
    "import os\n",
    "\n",
    "import numpy as np\n",
    "import matplotlib.pyplot as plt\n",
    "\n",
    "import tensorflow as tf\n",
    "import tensorflow_models as tfm\n",
    "import tensorflow_hub as hub\n",
    "import tensorflow_datasets as tfds\n",
    "tfds.disable_progress_bar()"
   ]
  },
  {
   "cell_type": "code",
   "execution_count": 2,
   "id": "647c53b745873be8",
   "metadata": {
    "collapsed": false
   },
   "outputs": [
    {
     "name": "stderr",
     "output_type": "stream",
     "text": [
      "2023-11-15 18:47:52.078015: W tensorflow/tsl/platform/cloud/google_auth_provider.cc:184] All attempts to get a Google authentication bearer token failed, returning an empty token. Retrieving token from files failed with \"NOT_FOUND: Could not locate the credentials file.\". Retrieving token from GCE failed with \"FAILED_PRECONDITION: Error executing an HTTP request: libcurl code 6 meaning 'Couldn't resolve host name', error details: Could not resolve host: metadata.google.internal\".\n"
     ]
    },
    {
     "data": {
      "text/plain": [
       "['bert_config.json',\n",
       " 'bert_model.ckpt.data-00000-of-00001',\n",
       " 'bert_model.ckpt.index',\n",
       " 'vocab.txt']"
      ]
     },
     "execution_count": 2,
     "metadata": {},
     "output_type": "execute_result"
    }
   ],
   "source": [
    "gs_folder_bert = \"gs://cloud-tpu-checkpoints/bert/v3/uncased_L-12_H-768_A-12\"\n",
    "tf.io.gfile.listdir(gs_folder_bert)"
   ]
  },
  {
   "cell_type": "code",
   "execution_count": 3,
   "metadata": {},
   "outputs": [],
   "source": [
    "tokenizer = tfm.nlp.layers.FastWordpieceBertTokenizer(\n",
    "    vocab_file=os.path.join(gs_folder_bert, \"vocab.txt\"),\n",
    "    lower_case=True)"
   ]
  },
  {
   "cell_type": "code",
   "execution_count": 4,
   "metadata": {},
   "outputs": [
    {
     "data": {
      "text/plain": [
       "<tf.RaggedTensor [[[6786], [2559], [8790], [3265], [10326], [3693], [3652], [3029], [3435],\n",
       "  [13823], [9186], [4425], [4677], [4007], [3068], [5264], [3632], [3617],\n",
       "  [3265], [2377], [2535], [4975], [25925], [7842, 3022], [5906], [11126],\n",
       "  [2794], [2578], [7846], [10198], [1015], [2147], [4944], [7705], [5859],\n",
       "  [4503], [2279], [4245], [6112], [2918], [12702], [2578], [7621], [1016],\n",
       "  [2640], [10408], [12702], [2326], [14184], [3078], [4425], [4677],\n",
       "  [3001], [2640], [2442], [12379], [26743, 3468], [2925], [4935], [12200],\n",
       "  [1017], [5323], [17928], [2578], [17928], [11909], [4722], [6327],\n",
       "  [4806], [8346, 2015], [1018], [6254], [2640], [2573], [5372], [3115],\n",
       "  [11630], [6987], [13271], [5676], [2640], [12653, 2015], [2421],\n",
       "  [11336], [2951], [2467], [3582], [4781], [3058], [1019], [6204],\n",
       "  [29003], [2458], [16134], [12702], [2578], [2458], [2166], [5402],\n",
       "  [1020], [4287], [3131], [8346], [5604], [5570], [25196], [2136]]]>"
      ]
     },
     "execution_count": 4,
     "metadata": {},
     "output_type": "execute_result"
    }
   ],
   "source": [
    "tokens = tokenizer(tf.constant([\"technologies looking dynamic individual keen join growing organization fast paced expanding supply chain software industry singapore goes digital individual play role developing upgrading saas tools valued added services clients responsibilities 1 work architect framework designer develop next generation cloud base micro services suite 2 design implement micro service modules primary supply chain systems design must flexible scalable future expansion upgrade 3 establish api services api gateway internal external communications integrations 4 document design works proper standard formats detail descriptions ensure design documentations include module data always follow standards date 5 conduct agile development methodology micro services development life cycle 6 carry unit integration testing regularly qc team\"]))\n",
    "tokens"
   ]
  }
 ],
 "metadata": {
  "kernelspec": {
   "display_name": "Python 3",
   "language": "python",
   "name": "python3"
  },
  "language_info": {
   "codemirror_mode": {
    "name": "ipython",
    "version": 3
   },
   "file_extension": ".py",
   "mimetype": "text/x-python",
   "name": "python",
   "nbconvert_exporter": "python",
   "pygments_lexer": "ipython3",
   "version": "3.10.13"
  }
 },
 "nbformat": 4,
 "nbformat_minor": 5
}
